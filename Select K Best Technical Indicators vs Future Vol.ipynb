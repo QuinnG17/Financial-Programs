{
 "cells": [
  {
   "cell_type": "code",
   "execution_count": 1,
   "id": "55de987c",
   "metadata": {},
   "outputs": [
    {
     "name": "stdout",
     "output_type": "stream",
     "text": [
      "Requirement already satisfied: tqdm in c:\\users\\quinn\\anaconda3\\lib\\site-packages (4.65.0)\n",
      "Requirement already satisfied: colorama in c:\\users\\quinn\\anaconda3\\lib\\site-packages (from tqdm) (0.4.6)\n"
     ]
    }
   ],
   "source": [
    "!pip install tqdm"
   ]
  },
  {
   "cell_type": "code",
   "execution_count": 2,
   "id": "9ae534cb",
   "metadata": {},
   "outputs": [
    {
     "name": "stdout",
     "output_type": "stream",
     "text": [
      "Collecting yfinance\n",
      "  Obtaining dependency information for yfinance from https://files.pythonhosted.org/packages/e6/b3/388ab967a387cc92926f70e97688dd9a7189b29a0773db815ffc5289e2b5/yfinance-0.2.31-py2.py3-none-any.whl.metadata\n",
      "  Downloading yfinance-0.2.31-py2.py3-none-any.whl.metadata (11 kB)\n",
      "Requirement already satisfied: pandas>=1.3.0 in c:\\users\\quinn\\anaconda3\\lib\\site-packages (from yfinance) (2.0.3)\n",
      "Requirement already satisfied: numpy>=1.16.5 in c:\\users\\quinn\\anaconda3\\lib\\site-packages (from yfinance) (1.24.3)\n",
      "Requirement already satisfied: requests>=2.31 in c:\\users\\quinn\\anaconda3\\lib\\site-packages (from yfinance) (2.31.0)\n",
      "Collecting multitasking>=0.0.7 (from yfinance)\n",
      "  Downloading multitasking-0.0.11-py3-none-any.whl (8.5 kB)\n",
      "Requirement already satisfied: lxml>=4.9.1 in c:\\users\\quinn\\anaconda3\\lib\\site-packages (from yfinance) (4.9.3)\n",
      "Requirement already satisfied: appdirs>=1.4.4 in c:\\users\\quinn\\anaconda3\\lib\\site-packages (from yfinance) (1.4.4)\n",
      "Requirement already satisfied: pytz>=2022.5 in c:\\users\\quinn\\anaconda3\\lib\\site-packages (from yfinance) (2023.3.post1)\n",
      "Collecting frozendict>=2.3.4 (from yfinance)\n",
      "  Downloading frozendict-2.3.8-py311-none-any.whl (14 kB)\n",
      "Collecting peewee>=3.16.2 (from yfinance)\n",
      "  Downloading peewee-3.17.0.tar.gz (2.9 MB)\n",
      "     ---------------------------------------- 0.0/2.9 MB ? eta -:--:--\n",
      "      --------------------------------------- 0.0/2.9 MB 960.0 kB/s eta 0:00:04\n",
      "     ----- ---------------------------------- 0.4/2.9 MB 4.1 MB/s eta 0:00:01\n",
      "     ---------------------- ----------------- 1.7/2.9 MB 11.7 MB/s eta 0:00:01\n",
      "     ---------------------------------------  2.9/2.9 MB 17.0 MB/s eta 0:00:01\n",
      "     ---------------------------------------- 2.9/2.9 MB 15.6 MB/s eta 0:00:00\n",
      "  Installing build dependencies: started\n",
      "  Installing build dependencies: finished with status 'done'\n",
      "  Getting requirements to build wheel: started\n",
      "  Getting requirements to build wheel: finished with status 'done'\n",
      "  Preparing metadata (pyproject.toml): started\n",
      "  Preparing metadata (pyproject.toml): finished with status 'done'\n",
      "Requirement already satisfied: beautifulsoup4>=4.11.1 in c:\\users\\quinn\\anaconda3\\lib\\site-packages (from yfinance) (4.12.2)\n",
      "Collecting html5lib>=1.1 (from yfinance)\n",
      "  Downloading html5lib-1.1-py2.py3-none-any.whl (112 kB)\n",
      "     ---------------------------------------- 0.0/112.2 kB ? eta -:--:--\n",
      "     ---------------------------------------- 112.2/112.2 kB ? eta 0:00:00\n",
      "Requirement already satisfied: soupsieve>1.2 in c:\\users\\quinn\\anaconda3\\lib\\site-packages (from beautifulsoup4>=4.11.1->yfinance) (2.4)\n",
      "Requirement already satisfied: six>=1.9 in c:\\users\\quinn\\anaconda3\\lib\\site-packages (from html5lib>=1.1->yfinance) (1.16.0)\n",
      "Requirement already satisfied: webencodings in c:\\users\\quinn\\anaconda3\\lib\\site-packages (from html5lib>=1.1->yfinance) (0.5.1)\n",
      "Requirement already satisfied: python-dateutil>=2.8.2 in c:\\users\\quinn\\anaconda3\\lib\\site-packages (from pandas>=1.3.0->yfinance) (2.8.2)\n",
      "Requirement already satisfied: tzdata>=2022.1 in c:\\users\\quinn\\anaconda3\\lib\\site-packages (from pandas>=1.3.0->yfinance) (2023.3)\n",
      "Requirement already satisfied: charset-normalizer<4,>=2 in c:\\users\\quinn\\anaconda3\\lib\\site-packages (from requests>=2.31->yfinance) (2.0.4)\n",
      "Requirement already satisfied: idna<4,>=2.5 in c:\\users\\quinn\\anaconda3\\lib\\site-packages (from requests>=2.31->yfinance) (3.4)\n",
      "Requirement already satisfied: urllib3<3,>=1.21.1 in c:\\users\\quinn\\anaconda3\\lib\\site-packages (from requests>=2.31->yfinance) (1.26.16)\n",
      "Requirement already satisfied: certifi>=2017.4.17 in c:\\users\\quinn\\anaconda3\\lib\\site-packages (from requests>=2.31->yfinance) (2023.7.22)\n",
      "Downloading yfinance-0.2.31-py2.py3-none-any.whl (65 kB)\n",
      "   ---------------------------------------- 0.0/65.6 kB ? eta -:--:--\n",
      "   ---------------------------------------- 65.6/65.6 kB ? eta 0:00:00\n",
      "Building wheels for collected packages: peewee\n",
      "  Building wheel for peewee (pyproject.toml): started\n",
      "  Building wheel for peewee (pyproject.toml): finished with status 'done'\n",
      "  Created wheel for peewee: filename=peewee-3.17.0-py3-none-any.whl size=135766 sha256=00f91101e034ab5fbb3ec2892d6417b1f1783be74888b19a8874c18b977bfbce\n",
      "  Stored in directory: c:\\users\\quinn\\appdata\\local\\pip\\cache\\wheels\\02\\20\\23\\74a10d0cd31f5d41c19b92ddf4c138ceff01b9f4675f19dbf5\n",
      "Successfully built peewee\n",
      "Installing collected packages: peewee, multitasking, html5lib, frozendict, yfinance\n",
      "Successfully installed frozendict-2.3.8 html5lib-1.1 multitasking-0.0.11 peewee-3.17.0 yfinance-0.2.31\n"
     ]
    }
   ],
   "source": [
    "!pip install yfinance"
   ]
  },
  {
   "cell_type": "code",
   "execution_count": 51,
   "id": "f08d7969",
   "metadata": {},
   "outputs": [
    {
     "name": "stdout",
     "output_type": "stream",
     "text": [
      "Collecting ta\n",
      "  Downloading ta-0.11.0.tar.gz (25 kB)\n",
      "  Preparing metadata (setup.py): started\n",
      "  Preparing metadata (setup.py): finished with status 'done'\n",
      "Requirement already satisfied: numpy in c:\\users\\quinn\\anaconda3\\lib\\site-packages (from ta) (1.24.3)\n",
      "Requirement already satisfied: pandas in c:\\users\\quinn\\anaconda3\\lib\\site-packages (from ta) (2.0.3)\n",
      "Requirement already satisfied: python-dateutil>=2.8.2 in c:\\users\\quinn\\anaconda3\\lib\\site-packages (from pandas->ta) (2.8.2)\n",
      "Requirement already satisfied: pytz>=2020.1 in c:\\users\\quinn\\anaconda3\\lib\\site-packages (from pandas->ta) (2023.3.post1)\n",
      "Requirement already satisfied: tzdata>=2022.1 in c:\\users\\quinn\\anaconda3\\lib\\site-packages (from pandas->ta) (2023.3)\n",
      "Requirement already satisfied: six>=1.5 in c:\\users\\quinn\\anaconda3\\lib\\site-packages (from python-dateutil>=2.8.2->pandas->ta) (1.16.0)\n",
      "Building wheels for collected packages: ta\n",
      "  Building wheel for ta (setup.py): started\n",
      "  Building wheel for ta (setup.py): finished with status 'done'\n",
      "  Created wheel for ta: filename=ta-0.11.0-py3-none-any.whl size=29422 sha256=331ed14112518373a72da91c72c0a94dcdcbd0b907b101d6fd82508b267c6e4b\n",
      "  Stored in directory: c:\\users\\quinn\\appdata\\local\\pip\\cache\\wheels\\a1\\d7\\29\\7781cc5eb9a3659d032d7d15bdd0f49d07d2b24fec29f44bc4\n",
      "Successfully built ta\n",
      "Installing collected packages: ta\n",
      "Successfully installed ta-0.11.0\n"
     ]
    }
   ],
   "source": [
    "!pip install ta"
   ]
  },
  {
   "cell_type": "code",
   "execution_count": 7,
   "id": "2054c0ae",
   "metadata": {},
   "outputs": [],
   "source": [
    "import pandas as pd\n",
    "import requests\n",
    "from io import StringIO\n",
    "\n",
    "# Dropbox URLs\n",
    "url_2021 = r\"C:\\Users\\quinn\\Downloads\\Comprehend_Elite_Customer_Historical_Package-20230212T215237Z-001\\Comprehend Elite - Customer Historical Package\\elite_historical_2021.csv\"\n",
    "url_2022 = r\"C:\\Users\\quinn\\Downloads\\Comprehend_Elite_Customer_Historical_Package-20230212T215237Z-001\\Comprehend Elite - Customer Historical Package\\elite_historical_2022.csv\"\n",
    "\n",
    "data2021 = pd.read_csv(url_2021, delimiter=';')\n",
    "data2022 = pd.read_csv(url_2022, delimiter=';')\n",
    "\n"
   ]
  },
  {
   "cell_type": "code",
   "execution_count": 9,
   "id": "ac9bdf1f",
   "metadata": {},
   "outputs": [
    {
     "name": "stdout",
     "output_type": "stream",
     "text": [
      "  region ticker entity_id         date           event_start_time  \\\n",
      "0     US      A  002LV5-E  05-Jan-2021  2021-01-05 19:25:00+00:00   \n",
      "1     US      A  002LV5-E  12-Jan-2021  2021-01-12 16:40:00+00:00   \n",
      "2     US      A  002LV5-E  12-Jan-2021  2021-01-12 16:40:00+00:00   \n",
      "3     US      A  002LV5-E  16-Feb-2021  2021-02-16 21:30:00+00:00   \n",
      "4     US      A  002LV5-E  16-Feb-2021  2021-02-16 21:30:00+00:00   \n",
      "\n",
      "                                         event_title    event_id  \\\n",
      "0  Goldman Sachs Healthcare CEOs Unscripted Confe...  1201599424   \n",
      "1                    JP Morgan Healthcare Conference  1201599452   \n",
      "2                    JP Morgan Healthcare Conference  1201599452   \n",
      "3                              Q1 2021 Earnings Call  1201633130   \n",
      "4                              Q1 2021 Earnings Call  1201633130   \n",
      "\n",
      "   executive_num    executive_name executive_title  ... std(f45)-QA  \\\n",
      "0              1     Matthew Sykes         Analyst  ...    1447.640   \n",
      "1              1  Michael McMullen             CEO  ...    1056.180   \n",
      "2              2    Tycho Peterson         Analyst  ...    1268.330   \n",
      "3              1     Ankur Dhingra              VP  ...         NaN   \n",
      "4              2  Michael McMullen             CEO  ...     638.746   \n",
      "\n",
      "   std(f46)-QA   std(f47)-QA  std(f48)-QA  std(f49)-QA  std(f50)-QA    stat1  \\\n",
      "0      3.97305  3.382960e-09      387.119      68.5573     0.115581  54.9896   \n",
      "1      4.01372  2.740150e-09      289.633      57.1712     0.088591  49.4998   \n",
      "2      3.55389  4.993310e-09      344.006      63.4915     0.118227  50.1583   \n",
      "3          NaN           NaN          NaN          NaN          NaN      NaN   \n",
      "4      7.05754  2.438270e-09      177.380      72.7310     0.111390  53.3221   \n",
      "\n",
      "     stat2     stat3    stat4  \n",
      "0  54.6586  0.662386  27.3437  \n",
      "1  72.6086  0.108627  33.5803  \n",
      "2   2.2569  0.683672 -42.6352  \n",
      "3      NaN       NaN      NaN  \n",
      "4  58.0471  0.383015  12.7073  \n",
      "\n",
      "[5 rows x 217 columns]\n"
     ]
    }
   ],
   "source": [
    "model_data = pd.concat([data2021, data2022])\n",
    "print(model_data.head())"
   ]
  },
  {
   "cell_type": "code",
   "execution_count": 11,
   "id": "bf47bc3a",
   "metadata": {
    "scrolled": true
   },
   "outputs": [
    {
     "name": "stdout",
     "output_type": "stream",
     "text": [
      "['A', 'AA', 'AACG', 'AAIC', 'AAL', 'AAN', 'AAOI', 'AAON', 'AAP', 'AAPL', 'AAT', 'AAVMY', 'AAWW', 'AB', 'ABBV', 'ABC', 'ABCB', 'ABCL', 'ABEO', 'ABG', 'ABIO', 'ABM', 'ABMD', 'ABNB', 'ABR', 'ABSI', 'ABT', 'ABTX', 'ABUS', 'ACA', 'ACAD', 'ACBI', 'ACC', 'ACCD', 'ACCO', 'ACEL', 'ACER', 'ACET', 'ACEVU', 'ACFN', 'ACGL', 'ACHC', 'ACHR', 'ACHV', 'ACI', 'ACIA', 'ACIC.UT', 'ACIU', 'ACIW', 'ACLS', 'ACM', 'ACMR', 'ACN', 'ACND.UT', 'ACOR', 'ACR', 'ACRE', 'ACRS', 'ACRX', 'ACTG', 'ACU', 'ACVA', 'ADAP', 'ADBE', 'ADC', 'ADCT', 'ADERU', 'ADES', 'ADGI', 'ADI', 'ADIL', 'ADM', 'ADMA', 'ADMP', 'ADMS', 'ADN', 'ADNT', 'ADNWW', 'ADOM', 'ADP', 'ADPT', 'ADS', 'ADSK', 'ADT', 'ADTN', 'ADUS', 'ADV', 'ADVM', 'ADX', 'ADXS', 'AE', 'AEE', 'AEHL', 'AEHR', 'AEIS', 'AEL', 'AEM', 'AEMD', 'AEO', 'AEP', 'AER', 'AERI', 'AES', 'AESE', 'AEVA', 'AEY', 'AEYE', 'AEZS', 'AFCG', 'AFG', 'AFHIF', 'AFI', 'AFIB', 'AFIN', 'AFL', 'AFMD', 'AFRM', 'AFYA', 'AG', 'AGCO', 'AGEN', 'AGFS', 'AGFY', 'AGI', 'AGIL', 'AGIO', 'AGL', 'AGLE', 'AGM', 'AGMH', 'AGNC', 'AGO', 'AGR', 'AGRI', 'AGRO', 'AGRX', 'AGS', 'AGTC', 'AGTI', 'AGYS', 'AHC', 'AHCO', 'AHH', 'AHT', 'AI', 'AIG', 'AIH', 'AIKI', 'AIM', 'AIMC', 'AIN', 'AINC', 'AINV', 'AIP', 'AIR', 'AIRC', 'AIRG', 'AIRI', 'AIRS', 'AIT', 'AIZ', 'AJAX.UT', 'AJG', 'AJRD', 'AJX', 'AKA', 'AKAM', 'AKBA', 'AKR', 'AKRO', 'AKTS', 'AKTX', 'AKUS', 'AKYA', 'AL', 'ALB', 'ALBO', 'ALC', 'ALCO', 'ALDX', 'ALE', 'ALEC', 'ALEX', 'ALG', 'ALGM', 'ALGN', 'ALGS', 'ALGT', 'ALHC', 'ALIM', 'ALIT', 'ALJJ', 'ALK', 'ALKS', 'ALKT', 'ALL', 'ALLE', 'ALLO', 'ALLT', 'ALLY', 'ALNA', 'ALNY', 'ALOT', 'ALPN', 'ALRM', 'ALRN', 'ALRS', 'ALSN', 'ALT', 'ALTA', 'ALTG', 'ALTM', 'ALTO', 'ALTR', 'ALUS.UT', 'ALV', 'ALVR', 'ALXN', 'ALXO', 'AM', 'AMAL', 'AMAM', 'AMAT', 'AMBA', 'AMBC', 'AMBP', 'AMC', 'AMCR', 'AMCX', 'AMD', 'AME', 'AMED', 'AMEH', 'AMG', 'AMGN', 'AMH', 'AMK', 'AMKR', 'AMN', 'AMOT', 'AMP', 'AMPE', 'AMPH', 'AMPL', 'AMPY', 'AMR', 'AMRB', 'AMRC', 'AMRK', 'AMRN', 'AMRS', 'AMRX', 'AMS', 'AMSC', 'AMSF', 'AMST', 'AMSWA', 'AMT', 'AMTI', 'AMTX', 'AMWD', 'AMWL', 'AMZN', 'AN', 'ANAB', 'ANDE', 'ANET', 'ANF', 'ANGI', 'ANGN', 'ANGO', 'ANH', 'ANIK', 'ANIP', 'ANIX', 'ANNX', 'ANPC', 'ANSS', 'ANTM', 'ANVS', 'AOMR', 'AON', 'AOS', 'AOSL', 'AOUT', 'AP', 'APA', 'APAM', 'APD', 'APDN', 'APEI', 'APEN', 'APG', 'APGT', 'APH', 'API', 'APLE', 'APLS', 'APLT', 'APO', 'APOG', 'APP', 'APPF', 'APPH', 'APPN', 'APPS', 'APR', 'APRE', 'APRN', 'APTS', 'APTV', 'APTX', 'APXTU', 'APYX', 'AQMS', 'AQST', 'AQUA', 'AR', 'ARAV', 'ARAY', 'ARC', 'ARCB', 'ARCC', 'ARCE', 'ARCH', 'ARCO', 'ARCT', 'ARD', 'ARDX', 'ARE', 'AREC', 'ARES', 'ARGO', 'ARHS', 'ARI', 'ARIS', 'ARKO', 'ARKR', 'ARLO', 'ARLP', 'ARMK', 'ARMP', 'ARNA', 'ARNC', 'AROC', 'ARQQ', 'ARQT', 'ARR', 'ARRY', 'ARTH', 'ARTL', 'ARVL', 'ARVN', 'ARW', 'ARWR', 'ARYA', 'ASAN', 'ASB', 'ASC', 'ASGN', 'ASH', 'ASIX', 'ASLE', 'ASLN', 'ASMB', 'ASND', 'ASO', 'ASPN', 'ASPS', 'ASPU', 'ASRT', 'ASTE', 'ASTR', 'ASTS', 'ASUR', 'ASXC', 'ASYS', 'ATAI', 'ATAX', 'ATC', 'ATCO', 'ATCX', 'ATDS', 'ATEC', 'ATEN', 'ATER', 'ATEX', 'ATGE', 'ATGN', 'ATH', 'ATHA', 'ATHM', 'ATHX', 'ATI', 'ATIP', 'ATKR', 'ATNF', 'ATNI', 'ATNX', 'ATO', 'ATOM', 'ATOS', 'ATR', 'ATRA', 'ATRC', 'ATRO', 'ATRS', 'ATSG', 'ATTO', 'ATUS', 'ATVI', 'ATXS', 'AUB', 'AUD', 'AUDC', 'AUGX', 'AUID', 'AUMN', 'AUTL', 'AUTO', 'AUUD', 'AUVI', 'AUY', 'AVA', 'AVAH', 'AVAV', 'AVB', 'AVD', 'AVDL', 'AVDX', 'AVEO', 'AVGO', 'AVGR', 'AVID', 'AVIR', 'AVLR', 'AVNS', 'AVNT', 'AVNW', 'AVO', 'AVPT', 'AVRO', 'AVT', 'AVTR', 'AVTX', 'AVXL', 'AVY', 'AVYA', 'AWH', 'AWI', 'AWK', 'AWR', 'AWRE', 'AX', 'AXDX', 'AXGN', 'AXL', 'AXLA', 'AXNX', 'AXON', 'AXP', 'AXS', 'AXSM', 'AXTA', 'AXTI', 'AY', 'AYI', 'AYLA', 'AYRO', 'AYTU', 'AYX', 'AZEK', 'AZO', 'AZPN', 'AZRE', 'AZRX', 'AZTA', 'AZUL', 'AZYO', 'AZZ', 'B', 'BA', 'BAAPF', 'BAC', 'BAH', 'BALY', 'BAM', 'BANC', 'BAND', 'BANR', 'BANX', 'BAP', 'BARK', 'BASE', 'BASI', 'BATL', 'BATRK', 'BAX', 'BB', 'BBBY', 'BBCP', 'BBDC', 'BBGI', 'BBI', 'BBIO', 'BBLN', 'BBSI', 'BBW', 'BBWI', 'BBY', 'BC', 'BCC', 'BCDA', 'BCE', 'BCEI', 'BCEL', 'BCLI', 'BCO', 'BCOR', 'BCOV', 'BCPC', 'BCRX', 'BCSF', 'BCYC', 'BDC', 'BDN', 'BDR', 'BDSI', 'BDSX', 'BDTX', 'BDX', 'BE', 'BEAM', 'BECN', 'BEDU', 'BEEM', 'BEKE', 'BELFB', 'BEN', 'BEPC', 'BERY', 'BEST', 'BF.B', 'BFAM', 'BFI', 'BFIN', 'BFLY', 'BFRI', 'BG', 'BGCP', 'BGFV', 'BGRY', 'BGS', 'BGSF', 'BHAT', 'BHC', 'BHE', 'BHF', 'BHG', 'BHIL', 'BHLB', 'BHR', 'BHTG', 'BHVN', 'BICX', 'BIDU', 'BIG', 'BIGC', 'BIIB', 'BILI', 'BILL', 'BIO', 'BIOC', 'BIOL', 'BIOX', 'BIP', 'BIRD', 'BIVI', 'BJ', 'BJRI', 'BK', 'BKCC', 'BKD', 'BKE', 'BKEP', 'BKH', 'BKI', 'BKKT', 'BKNG', 'BKR', 'BKSY', 'BKTI', 'BKU', 'BKYI', 'BL', 'BLBD', 'BLCM', 'BLCT', 'BLD', 'BLDE', 'BLDP', 'BLDR', 'BLFS', 'BLFY', 'BLGO', 'BLI', 'BLIN', 'BLK', 'BLKB', 'BLL', 'BLMN', 'BLND', 'BLNK', 'BLPH', 'BLUE', 'BLX', 'BLZE', 'BMBL', 'BMI', 'BMO', 'BMRC', 'BMRN', 'BMTC', 'BMTX', 'BMY', 'BNED', 'BNFT', 'BNGO', 'BNL', 'BNR', 'BNS', 'BNTX', 'BODY', 'BOH', 'BOKF', 'BOLT', 'BON', 'BOOM', 'BOOT', 'BOWXU', 'BOX', 'BOXL', 'BPMC', 'BPMP', 'BPOP', 'BPTH', 'BQ', 'BR', 'BRBR', 'BRC', 'BRDG', 'BRFH', 'BRG', 'BRGO', 'BRK.B', 'BRKL', 'BRKR', 'BRKS', 'BRLT', 'BRMK', 'BRO', 'BROG', 'BROS', 'BRP', 'BRQS', 'BRSP', 'BRT', 'BRTX', 'BRX', 'BRY', 'BRZE', 'BSGM', 'BSIG', 'BSM', 'BSN.UT', 'BSQR', 'BSVN', 'BSX', 'BSY', 'BTAI', 'BTBD', 'BTCS', 'BTCY', 'BTN', 'BTRS', 'BTTR', 'BTU', 'BTX', 'BUKS', 'BUR', 'BURL', 'BV', 'BVS', 'BVXV', 'BW', 'BWA', 'BWEN', 'BWMN', 'BWMX', 'BWXT', 'BX', 'BXC', 'BXMT', 'BXP', 'BXRX', 'BXS', 'BY', 'BYD', 'BYND', 'BYRN', 'BYSI', 'BZ', 'BZH', 'C', 'CAAP', 'CAAS', 'CABA', 'CABO', 'CAC', 'CACC', 'CACI', 'CADE', 'CAE', 'CAG', 'CAH', 'CAI', 'CAKE', 'CAL', 'CALA', 'CALM', 'CALX', 'CAMP', 'CAMT', 'CAN', 'CANG', 'CANO', 'CAPC', 'CAPL', 'CAPR', 'CAR', 'CARA', 'CARG', 'CARR', 'CARS', 'CASA', 'CASH', 'CASI', 'CASY', 'CAT', 'CATB', 'CATC', 'CATY', 'CAVR', 'CB', 'CBAN', 'CBAT', 'CBAY', 'CBIO', 'CBLI', 'CBNT', 'CBOE', 'CBRE', 'CBRL', 'CBSH', 'CBT', 'CBTX', 'CBU', 'CBZ', 'CC', 'CCAP', 'CCCC', 'CCCS', 'CCEP', 'CCF', 'CCI', 'CCIV', 'CCK', 'CCL', 'CCLP', 'CCMP', 'CCO', 'CCOI', 'CCRN', 'CCS', 'CCSI', 'CCXI', 'CD', 'CDAK', 'CDAY', 'CDE', 'CDEV', 'CDK', 'CDLX', 'CDMO', 'CDNA', 'CDNS', 'CDR', 'CDRE', 'CDTX', 'CDW', 'CDXC', 'CDXS', 'CE', 'CECE', 'CEIX', 'CELC', 'CELH', 'CEMI', 'CEN', 'CENT', 'CENX', 'CEQP', 'CERC', 'CERE', 'CERN', 'CERS', 'CERT', 'CEVA', 'CF', 'CFACU', 'CFB', 'CFG', 'CFLT', 'CFMS', 'CFR', 'CFRX', 'CFX', 'CG', 'CGBD', 'CGEN', 'CGNT', 'CGNX', 'CGRN', 'CHCT', 'CHD', 'CHDN', 'CHE', 'CHEF', 'CHFS', 'CHGG', 'CHH', 'CHK', 'CHKP', 'CHMA', 'CHMI', 'CHNG', 'CHPT', 'CHRA', 'CHRS', 'CHRW', 'CHS', 'CHTR', 'CHUY', 'CHWY', 'CHX', 'CI', 'CIAN', 'CIDM', 'CIEN', 'CIFR', 'CIH', 'CIM', 'CINF', 'CINR', 'CINT', 'CIO', 'CION', 'CIR', 'CIVB', 'CKPT', 'CL', 'CLAR', 'CLB', 'CLBS', 'CLBT', 'CLDR', 'CLDT', 'CLDX', 'CLF', 'CLFD', 'CLH', 'CLI', 'CLII.UT', 'CLIR', 'CLMT', 'CLNC', 'CLNE', 'CLNN', 'CLNY', 'CLOV', 'CLPR', 'CLPS', 'CLPT', 'CLR', 'CLRB', 'CLS', 'CLSD', 'CLSK', 'CLSN', 'CLVR', 'CLVS', 'CLVT', 'CLW', 'CLX', 'CLXT', 'CM', 'CMA', 'CMAX', 'CMBM', 'CMC', 'CMCM', 'CMCO', 'CMCSA', 'CMD', 'CME', 'CMG', 'CMI', 'CMLS', 'CMO', 'CMP', 'CMPI', 'CMPR', 'CMPS', 'CMRE', 'CMRX', 'CMS', 'CMTG', 'CMTL', 'CNA', 'CNC', 'CNCE', 'CNDT', 'CNF', 'CNFR', 'CNGO', 'CNHI', 'CNI', 'CNK', 'CNM', 'CNMD', 'CNNE', 'CNO', 'CNOB', 'CNP', 'CNQ', 'CNR', 'CNS', 'CNSL', 'CNSP', 'CNST', 'CNTA', 'CNTB', 'CNTG', 'CNTY', 'CNVY', 'CNX', 'CNXC', 'CNXN', 'CO', 'COCO', 'COCP', 'CODI', 'CODX', 'COE', 'COF', 'COG', 'COGT', 'COHN', 'COHR', 'COHU', 'COIN', 'COLB', 'COLD', 'COLL', 'COLM', 'COMM', 'COMP.EQ', 'COMS', 'CONE', 'CONN', 'COO', 'COOK', 'COOP', 'COP', 'COR', 'CORE', 'CORR', 'CORT', 'COST', 'COTY', 'COUP', 'COUR', 'COWN', 'CP', 'CPA', 'CPB', 'CPE', 'CPF', 'CPG', 'CPIX', 'CPK', 'CPLG', 'CPLP', 'CPNG', 'CPRI', 'CPRT', 'CPRX', 'CPS', 'CPSH', 'CPSI', 'CPSS', 'CPST', 'CPT', 'CPTA', 'CQP', 'CR', 'CRAI', 'CRBP', 'CRBU', 'CRC', 'CRCT', 'CRD.B', 'CRDF', 'CREE', 'CREX', 'CRI', 'CRIS', 'CRK', 'CRKN', 'CRL', 'CRM', 'CRMD', 'CRMT', 'CRNC', 'CRNT', 'CRNX', 'CROX', 'CRS', 'CRSA', 'CRSP', 'CRSR', 'CRTD', 'CRTO', 'CRTX', 'CRUS', 'CRVL', 'CRVS', 'CRWD', 'CRWS', 'CRXT', 'CRY', 'CSBR', 'CSCO', 'CSGP', 'CSGS', 'CSII', 'CSIQ', 'CSL', 'CSLT', 'CSOD', 'CSPI', 'CSPR', 'CSR', 'CSSE', 'CSTE', 'CSTL', 'CSTM', 'CSTR', 'CSU', 'CSV', 'CSVI', 'CSWC', 'CSWI', 'CSX', 'CTAS', 'CTB', 'CTEK', 'CTG', 'CTHR', 'CTIC', 'CTK', 'CTKB', 'CTLP', 'CTLT', 'CTMX', 'CTO', 'CTOS', 'CTRA', 'CTRE', 'CTRN', 'CTS', 'CTSH', 'CTSO', 'CTT', 'CTVA', 'CTXR', 'CTXS', 'CUBE', 'CUBI', 'CUE', 'CULP', 'CURI', 'CURO', 'CURR', 'CURV', 'CUTR', 'CUZ', 'CVA', 'CVAC', 'CVBF', 'CVCO', 'CVEO', 'CVET', 'CVGI', 'CVGW', 'CVI', 'CVLB', 'CVLG', 'CVLT', 'CVM', 'CVNA', 'CVRX', 'CVS', 'CVSI', 'CVU', 'CVV', 'CVX', 'CW', 'CWAN', 'CWCO', 'CWH', 'CWK', 'CWST', 'CWT', 'CXDO', 'CXM', 'CXP', 'CXW', 'CYBE', 'CYBR', 'CYCC', 'CYCN', 'CYD', 'CYDY', 'CYH', 'CYRN', 'CYRX', 'CYTK', 'CYTO', 'CYTR', 'CYXT', 'CZOO', 'CZR', 'D', 'DAC', 'DADA', 'DAIO', 'DAKT', 'DAL', 'DALN', 'DAN', 'DAO', 'DAR', 'DARE', 'DASH', 'DAVA', 'DB', 'DBD', 'DBDRU', 'DBGI', 'DBI', 'DBRG', 'DBX', 'DCI', 'DCO', 'DCOM', 'DCP', 'DCPH', 'DCRBU', 'DCRCU', 'DCT', 'DCTH', 'DD', 'DDD', 'DDI', 'DDL', 'DDOG', 'DE', 'DEA', 'DECK', 'DEH.UT', 'DEI', 'DELL', 'DEN', 'DENN', 'DESP', 'DFIN', 'DFPHU', 'DFS', 'DG', 'DGICA', 'DGII', 'DGLY', 'DGX', 'DH', 'DHC', 'DHI', 'DHR', 'DHT', 'DHX', 'DIBS', 'DIN', 'DIOD', 'DIS', 'DISCA', 'DISCK', 'DISH', 'DJCO', 'DK', 'DKL', 'DKMR', 'DKNG', 'DKS', 'DLA', 'DLB', 'DLHC', 'DLNG', 'DLO', 'DLPN', 'DLR', 'DLTH', 'DLTR', 'DLX', 'DM', 'DMRC', 'DMS', 'DMTK', 'DNA', 'DNAY', 'DNB', 'DNLI', 'DNMR', 'DNOW', 'DNUT', 'DOC', 'DOCN', 'DOCS', 'DOCU', 'DOLE', 'DOMA', 'DOMO', 'DOOR', 'DOV', 'DOW', 'DOX', 'DOYU', 'DPDW', 'DPW', 'DPWRF', 'DPZ', 'DQ', 'DRE', 'DRH', 'DRI', 'DRIO', 'DRNA', 'DRQ', 'DRRX', 'DRVN', 'DS', 'DSEY', 'DSGN', 'DSGX', 'DSKE', 'DSP', 'DSPG', 'DSSI', 'DSX', 'DT', 'DTC', 'DTE', 'DTEA', 'DTIL', 'DTM', 'DTM.WI', 'DTST', 'DUK', 'DUO', 'DUOL', 'DUOT', 'DV', 'DVA', 'DVAX', 'DVCR', 'DVN', 'DWSN', 'DX', 'DXC', 'DXCM', 'DXLG', 'DXPE', 'DXYN', 'DY', 'DYAI', 'DYN', 'DYNT', 'DZSI', 'EA', 'EAF', 'EAR', 'EARN', 'EAST', 'EAT', 'EB', 'EBAY', 'EBC', 'EBIX', 'EBMT', 'EBS', 'ECC', 'ECHO', 'ECL', 'ECOL', 'ECOM', 'ECOR', 'ECPG', 'ECVT', 'ED', 'EDAP', 'EDIT', 'EDR', 'EDRY', 'EDUC', 'EDXC', 'EEFT', 'EEX', 'EFC', 'EFOI', 'EFSC', 'EFX', 'EGAN', 'EGBN', 'EGHT', 'EGLE', 'EGP', 'EGRX', 'EGY', 'EH', 'EHC', 'EHTH', 'EIC', 'EIG', 'EIGR', 'EIX', 'EKSO', 'EL', 'ELAN', 'ELDN', 'ELF', 'ELMD', 'ELMS', 'ELOX', 'ELS', 'ELTK', 'ELTP', 'ELVT', 'ELY', 'ELYS', 'EM', 'EMAN', 'EME', 'EMKR', 'EML', 'EMN', 'EMPW.UT', 'EMR', 'ENB', 'ENBL', 'ENDP', 'ENFN', 'ENG', 'ENJY', 'ENLC', 'ENLV', 'ENOB', 'ENPH', 'ENR', 'ENS', 'ENSG', 'ENSV', 'ENTA', 'ENTG', 'ENTX', 'ENV', 'ENVA', 'ENVB', 'ENVX', 'ENZ', 'EOG', 'EOLS', 'EOSE', 'EPAC', 'EPAM', 'EPAY', 'EPC', 'EPD', 'EPM', 'EPR', 'EPRT', 'EPZM', 'EQ', 'EQBK', 'EQC', 'EQH', 'EQIX', 'EQOS', 'EQR', 'EQT', 'ERIE', 'ERII', 'ES', 'ESE', 'ESEA', 'ESI', 'ESLT', 'ESMT', 'ESNT', 'ESPR', 'ESRT', 'ESS', 'ESTA', 'ESTC', 'ESTE', 'ESXB', 'ET', 'ETD', 'ETH', 'ETM', 'ETN', 'ETNB', 'ETON', 'ETR', 'ETRN', 'ETSY', 'ETTX', 'ETWO', 'EURN', 'EVA', 'EVAX', 'EVBG', 'EVBN', 'EVC', 'EVCM', 'EVER', 'EVFM', 'EVGO', 'EVH', 'EVI', 'EVLO', 'EVOK', 'EVOP', 'EVR', 'EVRG', 'EVRI', 'EVTC', 'EW', 'EWBC', 'EWCZ', 'EWTX', 'EXAI', 'EXAS', 'EXC', 'EXEL', 'EXFO', 'EXFY', 'EXK', 'EXLS', 'EXOD', 'EXP', 'EXPE', 'EXPI', 'EXPO', 'EXPR', 'EXPRF', 'EXR', 'EXTN', 'EXTR', 'EYE', 'EYEN', 'EYPT', 'EZFL', 'EZPW', 'F', 'FA', 'FAF', 'FAII.UT', 'FANG', 'FANH', 'FARM', 'FARO', 'FAST', 'FAT', 'FATE', 'FB', 'FBC', 'FBHS', 'FBIO', 'FBK', 'FBP', 'FBRT', 'FBRX', 'FC', 'FCCY', 'FCEL', 'FCF', 'FCFS', 'FCN', 'FCNCA', 'FCPT', 'FCRD', 'FCX', 'FCXXF', 'FDMT', 'FDP', 'FDS', 'FDUS', 'FDX', 'FE', 'FEDU', 'FEIM', 'FELE', 'FENG', 'FET', 'FEYE', 'FFBC', 'FFHL', 'FFIC', 'FFIE', 'FFIV', 'FFWM', 'FGEN', 'FHB', 'FHI', 'FHN', 'FHS', 'FHTX', 'FI', 'FIBK', 'FICO', 'FIGS', 'FINV', 'FIS', 'FISI', 'FISV', 'FITB', 'FIVE', 'FIVN', 'FIX', 'FIXX', 'FL', 'FLDM', 'FLEX', 'FLGC', 'FLGT', 'FLIR', 'FLL', 'FLMN', 'FLNC', 'FLNT', 'FLO', 'FLOW', 'FLR', 'FLS', 'FLT', 'FLUX', 'FLWS', 'FLXN', 'FLXS', 'FLY', 'FLYW', 'FMBI', 'FMC', 'FMCC', 'FMNB', 'FMTX', 'FN', 'FNB', 'FNCH', 'FND', 'FNF', 'FNHC', 'FNKO', 'FNMA', 'FOA', 'FOCS', 'FOE', 'FOLD', 'FOR', 'FORA', 'FOREU', 'FORG', 'FORM', 'FORR', 'FOSL', 'FOUR', 'FOX', 'FOXF', 'FPAY', 'FPH', 'FPI', 'FPRX', 'FPVD', 'FR', 'FRBA', 'FRBK', 'FRC', 'FREE', 'FREQ', 'FREY', 'FRG', 'FRGI', 'FRLN', 'FRME', 'FRMO', 'FRO', 'FROG', 'FRPH', 'FRPT', 'FRSH', 'FRST', 'FRT', 'FRTT', 'FRX.UT', 'FSBC', 'FSBTF', 'FSK', 'FSLR', 'FSLY', 'FSP', 'FSR', 'FSRVU', 'FSS', 'FST.UT', 'FSTR', 'FSTX', 'FTAI', 'FTCH', 'FTCI', 'FTCO', 'FTCVU', 'FTDR', 'FTEK', 'FTHM', 'FTI', 'FTK', 'FTNT', 'FTOCU', 'FTRCQ', 'FTSI', 'FTV', 'FUBO', 'FUL', 'FULC', 'FULT', 'FUN', 'FUSE.UT', 'FUSN', 'FUTU', 'FUV', 'FVE', 'FVRR', 'FWAA', 'FWONA', 'FWRD', 'FWRG', 'FXLV', 'FYBR', 'G', 'GAIA', 'GAIN', 'GALT', 'GAMB', 'GAN', 'GANX', 'GASS', 'GATO', 'GATX', 'GAU', 'GAXY', 'GB', 'GBCI', 'GBCS', 'GBDC', 'GBIO', 'GBLI', 'GBOX', 'GBS', 'GBT', 'GBX', 'GCI', 'GCMG', 'GCO', 'GCP', 'GD', 'GDDY', 'GDEN', 'GDET', 'GDEV', 'GDOT', 'GDP', 'GDRX', 'GDYN', 'GE', 'GECC', 'GEF', 'GEG', 'GEL', 'GENI', 'GEO', 'GEOS', 'GERN', 'GES', 'GEVO', 'GFF', 'GFN', 'GFS', 'GGG', 'GGPIU', 'GH', 'GHG', 'GHIVU', 'GHL', 'GHLD', 'GHM', 'GHSI', 'GIC', 'GIFI', 'GIGA', 'GIII', 'GIL', 'GILD', 'GILT', 'GIPR', 'GIS', 'GKOS', 'GL', 'GLBE', 'GLDD', 'GLEO.UT', 'GLMD', 'GLNG', 'GLOB', 'GLOG', 'GLOP', 'GLP', 'GLPI', 'GLRE', 'GLSI', 'GLT', 'GLTO', 'GLW', 'GLYC', 'GM', 'GMBL', 'GMDA', 'GME', 'GMED', 'GMIIU', 'GMLP', 'GMNNF', 'GMRE', 'GMS', 'GMTX', 'GNBT', 'GNCA', 'GNE', 'GNK', 'GNL', 'GNLN', 'GNMK', 'GNOG', 'GNPK.UT', 'GNPX', 'GNRC', 'GNRSU', 'GNSS', 'GNTX', 'GNTY', 'GNW', 'GO', 'GOCO', 'GOED', 'GOEV', 'GOGL', 'GOGO', 'GOL', 'GOLD', 'GOLF', 'GOOD', 'GOOGL', 'GOOS', 'GORO', 'GOSS', 'GOTU', 'GOVX', 'GPC', 'GPI', 'GPK', 'GPMT', 'GPN', 'GPOR', 'GPP', 'GPRE', 'GPRK', 'GPRO', 'GPS', 'GPX', 'GRA', 'GRAY', 'GRBK', 'GRBX', 'GRCL', 'GRIN', 'GRMN', 'GROW', 'GROY', 'GRP.UT', 'GRPN', 'GRTS', 'GRTX', 'GRWG', 'GRYN', 'GS', 'GSAH.UT', 'GSBC', 'GSBD', 'GSHD', 'GSIT', 'GSKY', 'GSL', 'GSM', 'GSS', 'GSX', 'GT', 'GTBP', 'GTE', 'GTEC', 'GTES', 'GTH', 'GTHX', 'GTIM', 'GTLB', 'GTLS', 'GTN', 'GTS', 'GTX', 'GTY', 'GTYH', 'GURE', 'GVA', 'GVP', 'GWB', 'GWDAF', 'GWGH', 'GWRE', 'GWRS', 'GWW', 'GXGX', 'GXO', 'H', 'HA', 'HAE', 'HAFC', 'HAIN', 'HAL', 'HALO', 'HARP', 'HAS', 'HASI', 'HAYN', 'HAYW', 'HBAN', 'HBB', 'HBI', 'HBIO', 'HBM', 'HBMD', 'HBNC', 'HBP', 'HCA', 'HCAT', 'HCC', 'HCCI', 'HCDI', 'HCHC', 'HCI', 'HCKT', 'HCSG', 'HD', 'HDSN', 'HE', 'HEAR', 'HEES', 'HEI', 'HEI.A', 'HELE', 'HEP', 'HEPA', 'HEPS', 'HES', 'HESM', 'HFC', 'HFWA', 'HGBL', 'HGEN', 'HGV', 'HHC', 'HHR', 'HI', 'HIBB', 'HIG', 'HII', 'HIL', 'HIMS', 'HIMX', 'HIPO', 'HIW', 'HJLI', 'HL', 'HLBZ', 'HLF', 'HLG', 'HLI', 'HLIO', 'HLIT', 'HLLY', 'HLMN', 'HLNE', 'HLT', 'HLTH', 'HLX', 'HMHC', 'HMI', 'HMLP', 'HMN', 'HMPT', 'HMST', 'HMTV', 'HNGR', 'HNI', 'HNRG', 'HNST', 'HOFT', 'HOFV', 'HOG', 'HOLI', 'HOLUU', 'HOLX', 'HOMB', 'HOME', 'HON', 'HOOD', 'HOOK', 'HOPE', 'HOTH', 'HOV', 'HP', 'HPE', 'HPIL', 'HPK', 'HPP', 'HPQ', 'HQI', 'HQY', 'HR', 'HRB', 'HRC', 'HRI', 'HRL', 'HRMY', 'HROW', 'HRT', 'HRTG', 'HRTH', 'HRTX', 'HRZN', 'HSC', 'HSDT', 'HSIC', 'HSII', 'HSKA', 'HSON', 'HST', 'HSTM', 'HSTO', 'HSY', 'HT', 'HTA', 'HTBX', 'HTGC', 'HTGM', 'HTH', 'HTLF', 'HTZZ', 'HUBB', 'HUBG', 'HUBS', 'HUIZ', 'HUM', 'HUN', 'HURN', 'HUYA', 'HVT', 'HWC', 'HWM', 'HXL', 'HY', 'HYFM', 'HYLN', 'HYMC', 'HYRE', 'HYW', 'HYZN', 'HZN', 'HZNP', 'HZO', 'IAA', 'IAC', 'IACA.UT', 'IAG', 'IART', 'IAS', 'IBCP', 'IBEX', 'IBIO', 'IBKR', 'IBM', 'IBP', 'IBTX', 'ICAD', 'ICBK', 'ICCC', 'ICCT', 'ICD', 'ICE', 'ICFI', 'ICHR', 'ICLK', 'ICLR', 'ICMB', 'ICPT', 'ICUI', 'ID', 'IDA', 'IDCC', 'IDEX', 'IDN', 'IDRA', 'IDT', 'IDWM', 'IDXG', 'IDXX', 'IDYA', 'IEA', 'IEC', 'IEP', 'IEX', 'IFF', 'IFRX', 'IFS', 'IGIC', 'IGMS', 'IGT', 'IH', 'IHRT', 'IHS', 'III', 'IIIN', 'IIIV', 'IIN', 'IIPR', 'IIVI', 'ILMN', 'ILPT', 'IMAB', 'IMAC', 'IMAX', 'IMBI', 'IMCR', 'IMGN', 'IMGO', 'IMH', 'IMMR', 'IMNM', 'IMO', 'IMPL', 'IMPX', 'IMRA', 'IMTX', 'IMUX', 'IMVT', 'IMXI', 'INBK', 'INBX', 'INCY', 'INDB', 'INDI', 'INDT', 'INFA', 'INFI', 'INFN', 'INFO', 'INFU', 'INGN', 'INGR', 'INLB', 'INLX', 'INMB', 'INMD', 'INN', 'INNV', 'INO', 'INOD', 'INOV', 'INPX', 'INS', 'INSE', 'INSG', 'INSM', 'INSP', 'INST', 'INSW', 'INT', 'INTA', 'INTC', 'INTT', 'INTU', 'INTZ', 'INUV', 'INVE', 'INVH', 'INVO', 'INVZ', 'IO', 'IONQ', 'IONS', 'IOSP', 'IOVA', 'IP', 'IPAR', 'IPG', 'IPGP', 'IPI', 'IPLB', 'IPOE.UT', 'IPSC', 'IPW', 'IPWR', 'IQ', 'IQV', 'IR', 'IRBT', 'IRDM', 'IRIX', 'IRM', 'IRMD', 'IRNT', 'IRT', 'IRTC', 'IRWD', 'IS', 'ISBC', 'ISDR', 'ISEE', 'ISO', 'ISPC', 'ISR', 'ISRG', 'ISSC', 'ISUN', 'IT', 'ITCI', 'ITGR', 'ITI', 'ITOS', 'ITP', 'ITRI', 'ITRM', 'ITRN', 'ITT', 'ITW', 'IVAC', 'IVC', 'IVR', 'IVZ', 'IWSY', 'IZEA', 'J', 'JACK', 'JAGX', 'JAKK', 'JAMF', 'JAZZ', 'JBGS', 'JBHT', 'JBI', 'JBL', 'JBLU', 'JBSS', 'JBT', 'JCI', 'JCOM', 'JELD', 'JFIN', 'JG', 'JHG', 'JILL', 'JJSF', 'JKHY', 'JKS', 'JLL', 'JMIA', 'JMP', 'JNCE', 'JNJ', 'JNPR', 'JOAN', 'JOB', 'JOBY', 'JOUT', 'JP', 'JPM', 'JRSH', 'JRVR', 'JSDA', 'JW.A', 'JWN', 'JWS', 'JXN', 'JYNT', 'K', 'KAI', 'KALA', 'KALU', 'KALV', 'KAMN', 'KAR', 'KARO', 'KAVL', 'KBAL', 'KBH', 'KBNT', 'KBR', 'KC', 'KDMN', 'KDNY', 'KDP', 'KE', 'KELYA', 'KERN', 'KEX', 'KEY', 'KEYS', 'KFRC', 'KFY', 'KGC', 'KHC', 'KIDS', 'KIM', 'KIN', 'KIND', 'KINS', 'KIO', 'KIRK', 'KKR', 'KLAC', 'KLDI', 'KLDO', 'KLIC', 'KLR', 'KLTR', 'KLXE', 'KMB', 'KMI', 'KMPH', 'KMPR', 'KMT', 'KMX', 'KN', 'KNBE', 'KNDI', 'KNL', 'KNOP', 'KNSA', 'KNSL', 'KNTE', 'KNX', 'KO', 'KOD', 'KODK', 'KOP', 'KOPN', 'KORE', 'KOS', 'KPLT', 'KPTI', 'KR', 'KRA', 'KRC', 'KREF', 'KRG', 'KRKR', 'KRMD', 'KRNT', 'KRON', 'KROS', 'KRP', 'KRT', 'KRTX', 'KRUS', 'KRYS', 'KSHB', 'KSPN', 'KSS', 'KSU', 'KTB', 'KTCC', 'KTOS', 'KTRA', 'KUKE', 'KULR', 'KURA', 'KVHI', 'KVSB', 'KW', 'KWR', 'KYMR', 'KYN', 'KZR', 'L', 'LABP', 'LAD', 'LADR', 'LAKE', 'LAMR', 'LANC', 'LAND', 'LARK', 'LASR', 'LATNU', 'LAUR', 'LAW', 'LAWS', 'LAZ', 'LAZR', 'LAZY', 'LB', 'LBAI', 'LBC', 'LBPH', 'LBRDA', 'LBRT', 'LBTYA', 'LC', 'LCI', 'LCID', 'LCII', 'LCTX', 'LCUT', 'LDI', 'LDL', 'LDOS', 'LE', 'LEA', 'LEAF', 'LECO', 'LEE', 'LEG', 'LEGH', 'LEGN', 'LEJU', 'LEN', 'LESL', 'LEU', 'LEV', 'LEVI', 'LEXX', 'LFAP', 'LFMD', 'LFST', 'LFT', 'LFUS', 'LFVN', 'LGF.A', 'LGF.B', 'LGIH', 'LGIQ', 'LGL', 'LGND', 'LGVN', 'LH', 'LHCG', 'LHDX', 'LHX', 'LI', 'LICY', 'LIDR', 'LIFE', 'LII', 'LILAB', 'LILM', 'LIN', 'LINC', 'LIND', 'LIQT', 'LITB', 'LITE', 'LIVE', 'LIVN', 'LIVX', 'LIXT', 'LIZI', 'LKCO', 'LKQ', 'LL', 'LLNW', 'LLY', 'LMACU', 'LMAT', 'LMB', 'LMDX', 'LMND', 'LMNR', 'LMNX', 'LMPX', 'LMRK', 'LMT', 'LNC', 'LNDC', 'LNG', 'LNN', 'LNSR', 'LNT', 'LNTH', 'LOB', 'LOCO', 'LODE', 'LOGC', 'LOGI', 'LOPE', 'LOTZ', 'LOV', 'LOVE', 'LOW', 'LPCN', 'LPG', 'LPI', 'LPLA', 'LPRO', 'LPSN', 'LPTH', 'LPTX', 'LPX', 'LQDA', 'LQDT', 'LRCX', 'LRFC', 'LRMR', 'LRN', 'LSCC', 'LSEA', 'LSF', 'LSI', 'LSTR', 'LSXMA', 'LSYN', 'LTBR', 'LTC', 'LTCH', 'LTH', 'LTHM', 'LTRN', 'LTRPA', 'LTRX', 'LU', 'LULU', 'LUMN', 'LUMO', 'LUNA', 'LUNG', 'LUV', 'LUVU', 'LVLU', 'LVS', 'LW', 'LWAY', 'LWLG', 'LX', 'LXFR', 'LXP', 'LXRX', 'LXU', 'LYB', 'LYFT', 'LYRA', 'LYTS', 'LYV', 'LZ', 'LZB', 'M', 'MA', 'MAA', 'MAC', 'MACE', 'MACQU', 'MAGS', 'MAIN', 'MAN', 'MANH', 'MANT', 'MANU', 'MAPS', 'MAR', 'MARA', 'MARK', 'MAS', 'MASI', 'MASS', 'MAT', 'MATW', 'MATX', 'MAX', 'MAXN', 'MBAC.UT', 'MBI', 'MBII', 'MBIO', 'MBNAA', 'MBOT', 'MBRX', 'MBUU', 'MBWM', 'MC', 'MCD', 'MCF', 'MCFE', 'MCFT', 'MCG', 'MCHP', 'MCHX', 'MCK', 'MCO', 'MCRB', 'MCS', 'MCW', 'MD', 'MDB', 'MDC', 'MDCA', 'MDGL', 'MDLA', 'MDLZ', 'MDP', 'MDRX', 'MDT', 'MDU', 'MDVL', 'MDWD', 'MDWT', 'MDXG', 'ME', 'MEC', 'MED', 'MEDP', 'MEDS', 'MEEC', 'MEG', 'MEI', 'MEIP', 'MELI', 'MEOH', 'MERC', 'MESA', 'MET', 'METC', 'METX', 'MF', 'MFA', 'MFC', 'MFIN', 'MFON', 'MG', 'MGA', 'MGI', 'MGIC', 'MGLN', 'MGM', 'MGMB', 'MGNI', 'MGNX', 'MGP', 'MGPI', 'MGRC', 'MGTX', 'MGY', 'MHH', 'MHK', 'MHO', 'MIC', 'MICT', 'MIDD', 'MIGI', 'MILE', 'MIME', 'MIMO', 'MIND', 'MINM', 'MIR', 'MIRM', 'MIRO', 'MITK', 'MITO', 'MITQ', 'MITT', 'MKC', 'MKFG', 'MKGI', 'MKL', 'MKSI', 'MKTW', 'MKTX', 'MKTY', 'ML', 'MLCO', 'MLHR', 'MLM', 'MLND', 'MLNK', 'MLR', 'MLSS', 'MLVF', 'MMAC', 'MMAT', 'MMC', 'MMI', 'MMLP', 'MMM', 'MMMB', 'MMP', 'MMS', 'MMSI', 'MMYT', 'MN', 'MNDT', 'MNDY', 'MNKD', 'MNR', 'MNRL', 'MNRO', 'MNSO', 'MNST', 'MNTK', 'MNTS', 'MNTV', 'MNTX', 'MO', 'MOD', 'MODLY', 'MODN', 'MODV', 'MOFG', 'MOG.A', 'MOGU', 'MOH', 'MOMO', 'MORF', 'MOS', 'MOTNU', 'MOTS', 'MOV', 'MOVE', 'MP', 'MPAA', 'MPB', 'MPC', 'MPLN', 'MPLX', 'MPW', 'MPWR', 'MPX', 'MQ', 'MRAI', 'MRAM', 'MRC', 'MRCC', 'MRCY', 'MRK', 'MRKR', 'MRLN', 'MRM', 'MRMD', 'MRNA', 'MRNS', 'MRO', 'MRSN', 'MRTX', 'MRUS', 'MRVI', 'MRVL', 'MS', 'MSA', 'MSBI', 'MSCI', 'MSEX', 'MSFT', 'MSGE', 'MSGM', 'MSGN', 'MSGS', 'MSI', 'MSLP', 'MSM', 'MSON', 'MSP', 'MSTR', 'MTB', 'MTBC', 'MTCH', 'MTCR', 'MTD', 'MTDR', 'MTEM', 'MTG', 'MTH', 'MTLS', 'MTN', 'MTNB', 'MTOR', 'MTRN', 'MTRX', 'MTSI', 'MTTR', 'MTW', 'MTX', 'MTZ', 'MU', 'MUR', 'MUSA', 'MUX', 'MVES', 'MVIS', 'MVST', 'MWA', 'MWK', 'MX', 'MXL', 'MYE', 'MYFW', 'MYGN', 'MYMD', 'MYO', 'MYOV', 'MYPS', 'MYRG', 'MYTE', 'NABL', 'NAK', 'NAPA', 'NARI', 'NATI', 'NATR', 'NAUT', 'NAVB', 'NAVI', 'NBEV', 'NBHC', 'NBIX', 'NBLX', 'NBN', 'NBR', 'NBRV', 'NBSE', 'NBTB', 'NBY', 'NC', 'NCBS', 'NCLH', 'NCMI', 'NCNA', 'NCNO', 'NCPL', 'NCR', 'NCSM', 'NDAQ', 'NDLS', 'NDRA', 'NDSN', 'NE', 'NEE', 'NEM', 'NENTF', 'NEO', 'NEOG', 'NEON', 'NEOS', 'NEP', 'NEPH', 'NERV', 'NESR', 'NET', 'NETI', 'NEU', 'NEW', 'NEWR', 'NEWT', 'NEX', 'NEXA', 'NEXI', 'NEXT', 'NFBK', 'NFE', 'NFG', 'NFH', 'NFLX', 'NG', 'NGACU', 'NGD', 'NGL', 'NGM', 'NGMS', 'NGS', 'NGTF', 'NGVC', 'NGVT', 'NH', 'NHI', 'NHICU', 'NHTC', 'NI', 'NINE', 'NIO', 'NIU', 'NJR', 'NK', 'NKE', 'NKLA', 'NKTR', 'NKTX', 'NLCP', 'NLOK', 'NLS', 'NLSN', 'NLST', 'NLTX', 'NLY', 'NM', 'NMFC', 'NMIH', 'NMM', 'NMMC', 'NMRD', 'NMRK', 'NMTC', 'NMTR', 'NN', 'NNA', 'NNBR', 'NNDM', 'NNN', 'NNOX', 'NOA', 'NOAH', 'NOBL20', 'NOC', 'NOG', 'NOMD', 'NOTV', 'NOV', 'NOVA', 'NOVN', 'NOVT', 'NOW', 'NP', 'NPCE', 'NPO', 'NPTN', 'NR', 'NRDY', 'NREF', 'NRG', 'NRIX', 'NROM', 'NRP', 'NRUC', 'NRX.XX1', 'NRXP', 'NRZ', 'NS', 'NSA', 'NSAV', 'NSC', 'NSIT', 'NSP', 'NSPR', 'NSSC', 'NSTB.UT', 'NSTG', 'NTAP', 'NTB', 'NTCT', 'NTGR', 'NTIC', 'NTLA', 'NTNX', 'NTRA', 'NTRS', 'NTST', 'NTUS', 'NTWK', 'NTWN', 'NTZ', 'NUAN', 'NUE', 'NURO', 'NUS', 'NUVA', 'NUWE', 'NVAX', 'NVCR', 'NVDA', 'NVEC', 'NVEE', 'NVGS', 'NVL', 'NVMI', 'NVRO', 'NVST', 'NVT', 'NVTA', 'NVTS', 'NVVE', 'NWE', 'NWHM', 'NWL', 'NWN', 'NWPX', 'NWSA', 'NX', 'NXGN', 'NXPI', 'NXRT', 'NXST', 'NXTC', 'NXU.UT', 'NYC', 'NYCB', 'NYLD.A', 'NYMT', 'NYT', 'O', 'OAS', 'OB', 'OBLG', 'OBNK', 'OBSV', 'OC', 'OCC', 'OCDX', 'OCFC', 'OCFT', 'OCGN', 'OCN', 'OCSI', 'OCSL', 'OCUL', 'OCUP', 'OCX', 'ODC', 'ODFL', 'ODII', 'ODP', 'OEC', 'OEG', 'OESX', 'OFC', 'OFG', 'OFIX', 'OFS', 'OGE', 'OGN', 'OGS', 'OHI', 'OI', 'OII', 'OIIM', 'OIS', 'OKE', 'OKTA', 'OLB', 'OLED', 'OLK', 'OLLI', 'OLMA', 'OLN', 'OLO', 'OLPX', 'OM', 'OMC', 'OMCL', 'OMER', 'OMF', 'OMGA', 'OMI', 'OMIC', 'OMP', 'OMQS', 'ON', 'ONB', 'ONCR', 'ONCS', 'ONCT', 'ONDS', 'ONE', 'ONEM', 'ONEW', 'ONON', 'ONTF', 'ONTO', 'ONTX', 'OOMA', 'OPA.UT', 'OPAD', 'OPCH', 'OPEN', 'OPFI', 'OPGN', 'OPI', 'OPK', 'OPNT', 'OPRA', 'OPRT', 'OPRX', 'OPTN', 'OPTT', 'ORA', 'ORBC', 'ORC', 'ORCC', 'ORCL', 'ORGN', 'ORGO', 'ORGS', 'ORI', 'ORIC', 'ORLY', 'ORMP', 'ORN', 'ORTX', 'OSBC', 'OSCR', 'OSG', 'OSH', 'OSIS', 'OSK', 'OSMT', 'OSPN', 'OSS', 'OSTK', 'OSUR', 'OSW', 'OTCM', 'OTEX', 'OTIC', 'OTIS', 'OTLK', 'OTLY', 'OTMO', 'OTRK', 'OTTR', 'OUST', 'OUT', 'OVID', 'OVV', 'OWL', 'OWLT', 'OXBR', 'OXLC', 'OXM', 'OXSQ', 'OXY', 'OYST', 'OZK', 'PAA', 'PAAS', 'PACB', 'PACE.UT', 'PACK', 'PAE', 'PAG', 'PAGP', 'PAGS', 'PAHC', 'PAIC', 'PAND', 'PANL', 'PANW', 'PAR', 'PARR', 'PASG', 'PATH', 'PATI', 'PATK', 'PAVM', 'PAX', 'PAY', 'PAYA', 'PAYC', 'PAYO', 'PAYS', 'PAYX', 'PB', 'PBCT', 'PBF', 'PBFX', 'PBH', 'PBI', 'PBIO', 'PBLA', 'PBPB', 'PBYI', 'PCAR', 'PCG', 'PCH', 'PCOR', 'PCRX', 'PCSA', 'PCT', 'PCTI', 'PCTY', 'PCVX', 'PCYG', 'PCYO', 'PD', 'PDCE', 'PDCO', 'PDD', 'PDFS', 'PDM', 'PDS', 'PDSB', 'PEAK', 'PEB', 'PEBO', 'PEG', 'PEGA', 'PEI', 'PEN', 'PENN', 'PEP', 'PERI', 'PESI', 'PETQ', 'PETS', 'PETV', 'PEYE', 'PFBC', 'PFC', 'PFDRU', 'PFE', 'PFG', 'PFGC', 'PFIE', 'PFIN', 'PFLT', 'PFMT', 'PFPT', 'PFS', 'PFSI', 'PFSW', 'PG', 'PGEN', 'PGNY', 'PGR', 'PGRE', 'PGTI', 'PH', 'PHAS', 'PHAT', 'PHEC', 'PHGE', 'PHIL', 'PHIO', 'PHM', 'PHR', 'PHUN', 'PHVS', 'PHX', 'PI', 'PII', 'PIK', 'PINC', 'PINE', 'PING', 'PINS', 'PIPR', 'PIRS', 'PIXY', 'PJT', 'PK', 'PKE', 'PKG', 'PKI', 'PKOH', 'PLAB', 'PLAN', 'PLAY', 'PLBY', 'PLCE', 'PLD', 'PLMR', 'PLNT', 'PLOW', 'PLRX', 'PLSE', 'PLT', 'PLTK', 'PLTR', 'PLUG', 'PLUS', 'PLX', 'PLXP', 'PLXS', 'PLYA', 'PLYM', 'PM', 'PMT', 'PMTS', 'PMVP', 'PNC', 'PNFP', 'PNNT', 'PNR', 'PNTG', 'PNW', 'PODD', 'POLY', 'POOL', 'POR', 'POSH', 'POST', 'POWI', 'POWL', 'POWW', 'PPBI', 'PPC', 'PPD', 'PPG', 'PPGHU', 'PPL', 'PQG', 'PRA', 'PRAA', 'PRAX', 'PRCH', 'PRCT', 'PRDO', 'PRFT', 'PRG', 'PRGO', 'PRGS', 'PRI', 'PRIM', 'PRLB', 'PRLD', 'PRM', 'PRMW', 'PRO', 'PROG', 'PROV', 'PRPH', 'PRPL', 'PRPO', 'PRQR', 'PRSC', 'PRTA', 'PRTH', 'PRTK', 'PRTS', 'PRTY', 'PRU', 'PRVA', 'PRVB', 'PSA', 'PSACU', 'PSB', 'PSEC', 'PSFE', 'PSMT', 'PSN', 'PSNL', 'PSTG', 'PSTH.UT', 'PSTI', 'PSTL', 'PSTV', 'PSTX', 'PSX', 'PSXP', 'PT', 'PTC', 'PTCT', 'PTE', 'PTEN', 'PTGX', 'PTLO', 'PTMN', 'PTN', 'PTON', 'PTPI', 'PTRA', 'PTVE', 'PUBM', 'PUMP', 'PUYI', 'PVAC', 'PVH', 'PWFL', 'PWP', 'PWR', 'PWSC', 'PX', 'PXD', 'PXLW', 'PXS', 'PYCR', 'PYPD', 'PYPL', 'PYYX', 'PZN', 'PZZA', 'QADB', 'QCOM', 'QCRH', 'QD', 'QDEL', 'QELLU', 'QEP', 'QEPC', 'QFIN', 'QGEN', 'QH', 'QIWI', 'QLGN', 'QLYS', 'QMCI', 'QMCO', 'QNST', 'QRHC', 'QRVO', 'QS', 'QSI', 'QSR', 'QTNT', 'QTRX', 'QTS', 'QTT', 'QTWO', 'QUAD', 'QUBT', 'QUIK', 'QUMU', 'QUOT', 'QURE', 'QVCA', 'R', 'RA', 'RAAS', 'RABO3850847', 'RACE', 'RAD', 'RADA', 'RADI', 'RAIL', 'RAIN', 'RAMP', 'RAND', 'RANI', 'RAPT', 'RARE', 'RAVN', 'RBA', 'RBAC.UT', 'RBB', 'RBBN', 'RBC', 'RBLX', 'RBNC', 'RBOT', 'RC', 'RCAT', 'RCEL', 'RCII', 'RCKT', 'RCKY', 'RCL', 'RCM', 'RCMT', 'RCRT', 'RCUS', 'RDCM', 'RDFN', 'RDHL', 'RDI', 'RDN', 'RDNT', 'RDUS', 'RDVT', 'RDWR', 'RE', 'REAL', 'REDU', 'REE', 'REED', 'REFR', 'REG', 'REGI', 'REGN', 'REI', 'REKR', 'RELL', 'RELY', 'RENT', 'REPH', 'REPL', 'REPX', 'RERE', 'RES', 'RESLF', 'RESN', 'RETA', 'REV', 'REVG', 'REX', 'REXR', 'REYN', 'REZI', 'RF', 'RFIL', 'RFL', 'RFP', 'RGA', 'RGCO', 'RGEN', 'RGF', 'RGLD', 'RGLS', 'RGNX', 'RGP', 'RGR', 'RGS', 'RH', 'RHI', 'RHP', 'RIBT', 'RICE.UT', 'RICK', 'RIDE', 'RIF', 'RIG', 'RIGL', 'RILY', 'RIOT', 'RIVN', 'RJF', 'RKDA', 'RKFL', 'RKLB', 'RKT', 'RL', 'RLAY', 'RLGT', 'RLGY', 'RLI', 'RLJ', 'RLMD', 'RLX', 'RM', 'RMAX', 'RMBL', 'RMBS', 'RMD', 'RMED', 'RMNIU', 'RMO', 'RMR', 'RMTI', 'RNA', 'RNG', 'RNGR', 'RNR', 'RNST', 'RNWK', 'ROAD', 'ROCC', 'ROCK', 'ROG', 'ROIC', 'ROIV', 'ROK', 'ROKU', 'ROL', 'ROLL', 'ROOT', 'ROP', 'ROST', 'ROT.UT', 'ROVR', 'RPAI', 'RPAY', 'RPD', 'RPID', 'RPM', 'RPRX', 'RPT', 'RPTX', 'RRC', 'RRD', 'RRGB', 'RRR', 'RRX', 'RS', 'RSG', 'RSI', 'RSKD', 'RSLS', 'RSSS', 'RSVR', 'RTLR', 'RTPYU', 'RTPZ.UT', 'RTX', 'RUBY', 'RUN', 'RUSHA', 'RUTH', 'RVLV', 'RVMD', 'RVNC', 'RWAY', 'RWLK', 'RWT', 'RXDX', 'RXMD', 'RXN', 'RXST', 'RXT', 'RY', 'RYAM', 'RYAN', 'RYB', 'RYI', 'RYN', 'RYTM', 'RZLT', 'S', 'SA', 'SABR', 'SACH', 'SAFE', 'SAFM', 'SAGE', 'SAH', 'SAIA', 'SAIC', 'SAIL', 'SALM', 'SALT', 'SAM', 'SAMG', 'SANA', 'SANM', 'SANW', 'SAR', 'SASR', 'SATS', 'SAVA', 'SAVE', 'SB', 'SBAC', 'SBBP', 'SBCF', 'SBET', 'SBEV', 'SBFG', 'SBG.UT', 'SBGI', 'SBH', 'SBKK', 'SBLK', 'SBNY', 'SBOW', 'SBRA', 'SBSAA', 'SBSI', 'SBT', 'SBTX', 'SBUX', 'SC', 'SCCO', 'SCHL', 'SCHN', 'SCHW', 'SCI', 'SCKT', 'SCL', 'SCM', 'SCND', 'SCOR', 'SCPH', 'SCPL', 'SCPS', 'SCS', 'SCSC', 'SCU', 'SCVL', 'SCVX.UT', 'SCWX', 'SCYX', 'SD', 'SDC', 'SDGR', 'SDIG', 'SDPI', 'SE', 'SEAC', 'SEAS', 'SEAT', 'SEDG', 'SEE', 'SEEL', 'SEER', 'SEIC', 'SELB', 'SELF', 'SEM', 'SEMR', 'SENS', 'SERA', 'SESN', 'SF', 'SFBS', 'SFE', 'SFIX', 'SFL', 'SFM', 'SFNC', 'SFT', 'SFTW.UT', 'SFUN', 'SGA', 'SGBX', 'SGC', 'SGEN', 'SGFY', 'SGH', 'SGHT', 'SGLB', 'SGMO', 'SGMS', 'SGRY', 'SGTX', 'SGU', 'SHAK', 'SHC', 'SHCR', 'SHEN', 'SHIP', 'SHLS', 'SHLX', 'SHO', 'SHOO', 'SHOP', 'SHPW', 'SHSP', 'SHW', 'SHWZ', 'SHYF', 'SI', 'SIBN', 'SIC', 'SIEN', 'SIG', 'SIGA', 'SIGI', 'SIGY', 'SILC', 'SILK', 'SIMO', 'SING', 'SINGD', 'SIOX', 'SIRC', 'SIRI', 'SITC', 'SITE', 'SITM', 'SIVB', 'SIX', 'SJI', 'SJM', 'SJW', 'SKIL', 'SKIN', 'SKLZ', 'SKT', 'SKX', 'SKY', 'SKYE', 'SKYT', 'SKYW', 'SLAB', 'SLB', 'SLCA', 'SLDB', 'SLF', 'SLG', 'SLGC', 'SLGG', 'SLGL', 'SLGN', 'SLM', 'SLNG', 'SLNO', 'SLP', 'SLQT', 'SLRC', 'SLRX', 'SLS', 'SLVM', 'SM', 'SMAR', 'SMBC', 'SMBK', 'SMCI', 'SMDM', 'SMED', 'SMFR', 'SMG', 'SMLP', 'SMLR', 'SMP', 'SMPL', 'SMRT', 'SMSI', 'SMTC', 'SMTI', 'SMWB', 'SNA', 'SNAP', 'SNAX', 'SNBR', 'SNCA', 'SNCE', 'SNCR', 'SNCY', 'SND', 'SNDL', 'SNDR', 'SNDX', 'SNES', 'SNEX', 'SNGX', 'SNII', 'SNOW', 'SNPO', 'SNPS', 'SNPX', 'SNR', 'SNSE', 'SNV', 'SNWV', 'SNX', 'SO', 'SOAC.UT', 'SOFI', 'SOFO', 'SOHO', 'SOHU', 'SOI', 'SOLO', 'SOLY', 'SON', 'SONM', 'SONO', 'SONX', 'SOPH', 'SOTK', 'SOVO', 'SP', 'SPB', 'SPCB', 'SPCE', 'SPFI', 'SPG', 'SPGI', 'SPH', 'SPI', 'SPKE', 'SPLK', 'SPNE', 'SPNS', 'SPNT', 'SPOK', 'SPOT', 'SPPI', 'SPR', 'SPRB', 'SPRO', 'SPSC', 'SPT', 'SPTN', 'SPWR', 'SPXC', 'SQ', 'SQFT', 'SQM', 'SQNS', 'SQSP', 'SQZ', 'SR', 'SRAD', 'SRAX', 'SRC', 'SRCL', 'SRDX', 'SRE', 'SREV', 'SRGA', 'SRI', 'SRLP', 'SRNE', 'SRPT', 'SRRA', 'SRRK', 'SRT', 'SRTS', 'SSB', 'SSD', 'SSKN', 'SSNC', 'SSP', 'SSRM', 'SSSS', 'SSTI', 'SSTK', 'SSYS', 'ST', 'STAA', 'STAF', 'STAG', 'STAR', 'STAY', 'STBA', 'STC', 'STE', 'STEM', 'STEP', 'STER', 'STFC', 'STG', 'STGW', 'STIM', 'STKL', 'STKS', 'STL', 'STLD', 'STMH', 'STMP', 'STN', 'STNE', 'STNG', 'STOK', 'STON', 'STOR', 'STPK', 'STRA', 'STRC', 'STRL', 'STRM', 'STRO', 'STRR', 'STRS', 'STSA', 'STT', 'STTK', 'STVN', 'STWD', 'STX', 'STXB', 'STXS', 'STZ', 'SU', 'SUI', 'SUM', 'SUMO', 'SUMR', 'SUN', 'SUNS', 'SUNW', 'SUP', 'SUPN', 'SURF', 'SV', 'SVACU', 'SVC', 'SVMK', 'SVOKU', 'SWAV', 'SWBI', 'SWCH', 'SWI', 'SWIM', 'SWIR', 'SWK', 'SWKH', 'SWKS', 'SWM', 'SWN', 'SWTX', 'SWX', 'SXC', 'SXI', 'SXT', 'SY', 'SYBT', 'SYBX', 'SYF', 'SYK', 'SYKE', 'SYN', 'SYNA', 'SYNH', 'SYNL', 'SYPR', 'SYRS', 'SYX', 'SYY', 'T', 'TA', 'TAC', 'TACO', 'TACT', 'TAL', 'TALK', 'TALO', 'TAP', 'TARA', 'TARS', 'TASK', 'TAST', 'TBBK', 'TBI', 'TBIO', 'TBK', 'TBLA', 'TBPH', 'TC', 'TCBI', 'TCDA', 'TCMD', 'TCOM', 'TCON', 'TCPC', 'TCRR', 'TCRX', 'TCS', 'TCX', 'TD', 'TDC', 'TDCAF', 'TDCX', 'TDG', 'TDOC', 'TDS', 'TDUP', 'TDW', 'TDY', 'TEAM', 'TECH', 'TEDU', 'TEL', 'TELA', 'TELL', 'TEN', 'TENB', 'TENX', 'TER', 'TERN', 'TESS', 'TEUM', 'TEX', 'TFC', 'TFFP', 'TFX', 'TGAN', 'TGB', 'TGEN', 'TGH', 'TGI', 'TGLS', 'TGNA', 'TGONF', 'TGP', 'TGT', 'TGTX', 'TH', 'THC', 'THG', 'THMO', 'THR', 'THRM', 'THRN', 'THRY', 'THS', 'TIG', 'TIGO', 'TIGR', 'TIL', 'TILE', 'TIPT', 'TISI', 'TITN', 'TJX', 'TK', 'TKKSU', 'TKNO', 'TKOI', 'TKR', 'TLDAY', 'TLGT', 'TLIS', 'TLMD', 'TLND', 'TLRY', 'TLS', 'TLYS', 'TMC', 'TMCI', 'TMDX', 'TME', 'TMHC', 'TMO', 'TMST', 'TMUS', 'TMX', 'TNC', 'TNDM', 'TNET', 'TNK', 'TNL', 'TNP', 'TNXP', 'TOL', 'TOMZ', 'TOST', 'TOUR', 'TPB', 'TPC', 'TPCO', 'TPCS', 'TPH', 'TPHS', 'TPIC', 'TPL', 'TPR', 'TPRE', 'TPTX', 'TPVY', 'TPX', 'TRCZF', 'TREB.UT', 'TREC', 'TREE', 'TREX', 'TRGP', 'TRHC', 'TRI', 'TRIB', 'TRIN', 'TRIP', 'TRKA', 'TRMB', 'TRMK', 'TRMT', 'TRN', 'TRNFD', 'TRNS', 'TROW', 'TROX', 'TRP', 'TRS', 'TRST', 'TRTC', 'TRTN', 'TRTX', 'TRU', 'TRUE', 'TRUP', 'TRV', 'TRVG', 'TRVI', 'TRVN', 'TRXC', 'TSBK', 'TSC', 'TSCO', 'TSE', 'TSEM', 'TSHA', 'TSIAU', 'TSLA', 'TSLX', 'TSN', 'TSP', 'TSQ', 'TSSI', 'TT', 'TTC', 'TTCF', 'TTD', 'TTEC', 'TTEK', 'TTGT', 'TTI', 'TTMI', 'TTOO', 'TTSH', 'TTWO', 'TUEM', 'TUFN', 'TULLY', 'TUP', 'TURN', 'TUSK', 'TUYA', 'TVA.EC', 'TVACU', 'TVC', 'TVPC', 'TVTX', 'TVTY', 'TW', 'TWI', 'TWIN', 'TWKS', 'TWLO', 'TWND.UT', 'TWNK', 'TWO', 'TWOU', 'TWST', 'TWTR', 'TX', 'TXG', 'TXMD', 'TXN', 'TXRH', 'TXT', 'TYL', 'TYME', 'TZOO', 'U', 'UAA', 'UAL', 'UAN', 'UAVS', 'UBER', 'UBS', 'UBSI', 'UBX', 'UCBI', 'UCL', 'UCTT', 'UDMY', 'UDR', 'UE', 'UEIC', 'UEPS', 'UFAB', 'UFCS', 'UFI', 'UFPI', 'UFPT', 'UFS', 'UGI', 'UGRO', 'UHAL', 'UHS', 'UIHC', 'UIS', 'UK', 'ULBI', 'ULCC', 'ULH', 'ULTA', 'UMBF', 'UMH', 'UMPQ', 'UN', 'UNF', 'UNFI', 'UNH', 'UNIT', 'UNM', 'UNP', 'UNVR', 'UONEK', 'UP', 'UPH', 'UPLD', 'UPS', 'UPST', 'UPWK', 'URBN', 'URGN', 'URI', 'USAC', 'USAK', 'USAP', 'USAT', 'USAU', 'USB', 'USCB', 'USCR', 'USDP', 'USFD', 'USIO', 'USM', 'USNA', 'USPH', 'USWS', 'USX', 'UTHR', 'UTI', 'UTL', 'UTZ', 'UVE', 'UVN', 'UVSP', 'UVV', 'UWMC', 'UXIN', 'V', 'VAC', 'VAL', 'VAPO', 'VATE', 'VBLT', 'VBTX', 'VC', 'VCEL', 'VCRA', 'VCTR', 'VCVCU', 'VCYT', 'VEC', 'VECO', 'VEEE', 'VEEV', 'VEI', 'VEL', 'VER', 'VERB', 'VERI', 'VERO', 'VERU', 'VERX', 'VFC', 'VG', 'VGID', 'VGR', 'VGZ', 'VIA', 'VIAC', 'VIAO', 'VIAV', 'VICI', 'VICR', 'VIEW', 'VINC', 'VINP', 'VIOT', 'VIPS', 'VIR', 'VIRI', 'VIRT', 'VIRX', 'VISL', 'VISM', 'VITL', 'VIVE', 'VIVO', 'VJET', 'VKTX', 'VLD', 'VLDR', 'VLN', 'VLO', 'VLON', 'VLTA', 'VLY', 'VMC', 'VMEO', 'VMEOV', 'VMI', 'VMW', 'VNCE', 'VNDA', 'VNE', 'VNET', 'VNO', 'VNOM', 'VNRX', 'VNT', 'VNTR', 'VOLT', 'VOR', 'VOXX', 'VOYA', 'VPG', 'VRA', 'VRAR', 'VRAY', 'VRCA', 'VRDN', 'VREX', 'VRM', 'VRNS', 'VRNT', 'VRPX', 'VRRM', 'VRS', 'VRSK', 'VRSN', 'VRT', 'VRTS', 'VRTV', 'VRTX', 'VSAT', 'VSCO', 'VSEC', 'VSH', 'VST', 'VSTA', 'VSTM', 'VSTO', 'VTEX', 'VTGGF', 'VTGN', 'VTNR', 'VTOL', 'VTR', 'VTRS', 'VTRU', 'VTSI', 'VUZI', 'VVI', 'VVNT', 'VVOS', 'VVPR', 'VVV', 'VXIT', 'VXRT', 'VYGR', 'VYNE', 'VYNT', 'VZ', 'VZIO', 'W', 'WAB', 'WAFD', 'WAL', 'WASH', 'WAT', 'WATT', 'WB', 'WBA', 'WBEV', 'WBS', 'WBT', 'WBX', 'WCC', 'WD', 'WDAY', 'WDC', 'WDFC', 'WDH', 'WE', 'WEAV', 'WEBR', 'WEC', 'WEJO', 'WELL', 'WEN', 'WERN', 'WES', 'WETF', 'WEX', 'WEYS', 'WFC', 'WFCF', 'WFRD', 'WFTLF', 'WGO', 'WH', 'WHD', 'WHF', 'WHG', 'WHR', 'WING', 'WINT', 'WIRE', 'WISA', 'WISH', 'WIX', 'WK', 'WKHS', 'WKME', 'WLDN', 'WLK', 'WLKP', 'WLL', 'WLMS', 'WLTW', 'WM', 'WMB', 'WMC', 'WMG', 'WMS', 'WMT', 'WNC', 'WNS', 'WOLF', 'WOOF', 'WOR', 'WOW', 'WPC', 'WPM', 'WRAP', 'WRB', 'WRBY', 'WRE', 'WRI', 'WRK', 'WRLD', 'WSBC', 'WSC', 'WSFS', 'WSM', 'WSO', 'WSR', 'WST', 'WSTG', 'WTBA', 'WTER', 'WTFC', 'WTI', 'WTM', 'WTR', 'WTRH', 'WTS', 'WTT', 'WTTR', 'WU', 'WVE', 'WW', 'WWD', 'WWE', 'WWR', 'WWW', 'WY', 'WYND', 'WYNN', 'WYY', 'X', 'XAIR', 'XAN', 'XBIO', 'XCUR', 'XDSL', 'XEC', 'XEL', 'XELA', 'XELB', 'XENE', 'XENT', 'XERS', 'XFOR', 'XGN', 'XHR', 'XL', 'XLRN', 'XM', 'XMTR', 'XNCR', 'XNET', 'XOG', 'XOM', 'XOMA', 'XONE', 'XOS', 'XP', 'XPEL', 'XPER', 'XPEV', 'XPL', 'XPO', 'XPOF', 'XPRO', 'XPRSA', 'XRAY', 'XRX', 'XSPA', 'XTNT', 'XXII', 'XYF', 'XYL', 'Y', 'YAC.UT', 'YALA', 'YAYO', 'YCBD', 'YELL', 'YELP', 'YETI', 'YEXT', 'YGYI', 'YI', 'YJ', 'YMAB', 'YMM', 'YMTX', 'YNDX', 'YOU', 'YQ', 'YRCW', 'YRD', 'YSG', 'YTEN', 'YTRA', 'YUM', 'YUMC', 'YY', 'ZBH', 'ZBRA', 'ZD', 'ZDGE', 'ZEN', 'ZENV', 'ZEPP', 'ZETA', 'ZEUS', 'ZEV', 'ZG', 'ZGNX', 'ZH', 'ZI', 'ZIM', 'ZION', 'ZIOP', 'ZIP', 'ZIXI', 'ZM', 'ZNGA', 'ZNTE', 'ZNTL', 'ZS', 'ZSAN', 'ZTS', 'ZUMZ', 'ZUO', 'ZVIA', 'ZVO', 'ZY', 'ZYME', 'ZYNE', 'ZYXI', 'ABOS', 'ACHL', 'ACT', 'ACXP', 'ADTH', 'ADTX', 'AFHIQ', 'ALLK', 'ALR', 'ALX', 'AMCI', 'AMMX', 'AMPG', 'AMPS', 'AMTB', 'AORT', 'ARBE', 'ARDS', 'AREB', 'AREN', 'AUR', 'BBAI', 'BBIG', 'BCAB', 'BEAT', 'BLBX', 'BMEA', 'BOAS', 'BOWL', 'BOXD', 'BRCC', 'BRDS', 'BREZ', 'BSFC', 'BSTG', 'BTTX', 'BXSL', 'BZFD', 'BZWR', 'CCRD', 'CDRO', 'CEAD', 'CELU', 'CGTX', 'CHWA', 'CIVI', 'CLSH', 'CMCT', 'CMMB', 'CMPO', 'CMPX', 'CORZ', 'CPTN', 'CRD.A', 'CRDO', 'CRGY', 'CTV', 'CVT', 'CWEN', 'CYN', 'CYT', 'CYTH', 'DAVE', 'DAWN', 'DBTX', 'DCGO', 'DERM', 'DNAA', 'DNAC', 'DOUG', 'DRCT', 'DTSS', 'EBET', 'EDNC', 'EFTR', 'ELEV', 'EMBK', 'ENSC', 'EQRX', 'ERAS', 'ESCA', 'ESGR', 'EVLV', 'EYES', 'FATH', 'FGI', 'FINW', 'FNA', 'FOXA', 'FSRD', 'FWONK', 'GBL', 'GFAI', 'GLAD', 'GLS', 'GLUE', 'GOOG', 'GRAB', 'GWH', 'HCP', 'HGTY', 'HHS', 'HLGN', 'HTOO', 'HUMA', 'HYPR', 'IDW', 'IFBD', 'IKT', 'IMPP', 'IMRX', 'INAB', 'INKT', 'INND', 'IOT', 'IREN', 'ISPO', 'ITHX', 'IVT', 'JHX', 'KD', 'LBRDK', 'LBTYK', 'LEAS', 'LFG', 'LFLY', 'LGMK', 'LILAK', 'LOCL', 'LOOP', 'LTRY', 'LUCD', 'LVO', 'LVTX', 'LYEL', 'LYLT', 'MBAC', 'MCB', 'MDV', 'MGTA', 'MLKN', 'MNPR', 'MREO', 'MRIN', 'NANX', 'NRC', 'NRDS', 'NSYS', 'NTRB', 'NU', 'NUVB', 'NUVL', 'NXGL', 'ONL', 'PARA', 'PEAR', 'PECO', 'PIII', 'PL', 'PNM', 'PNR.WI', 'PNT', 'PPSI', 'PRDS', 'PRSO', 'PYXS', 'QRTEA', 'QTEK', 'RDBX', 'REFI', 'REVB', 'RKLY', 'RLYB', 'RMNI', 'RNAZ', 'RNW', 'RNXT', 'RTL', 'RVLP', 'RXRX', 'SATSV', 'SATT', 'SCTY', 'SES', 'SEVN', 'SG', 'SGHC', 'SGRP', 'SLDP', 'SMMT', 'SNDA', 'SOND', 'SOPA', 'SPIR', 'SPWH', 'SQL', 'SRZN', 'SSU', 'STRN', 'STRY', 'SURG', 'SVRA', 'TALS', 'TCRT', 'TECK', 'TIVC', 'TKLF', 'TLSA', 'TNYA', 'TOI', 'TPG', 'TPST', 'TPVG', 'TSVT', 'USER', 'UTRS', 'VCSA', 'VECT', 'VERA', 'VERV', 'VIGL', 'VORB', 'VRE', 'VRNA', 'VTDRF', 'VTYX', 'WTRG', 'WTW', 'XLO', 'Z', 'ZWS', 'EVEX', 'EMBC', 'SNAL', 'HOWL', 'GEN', 'BFH', 'WLY', 'NAT', 'GRPH', 'BLCO', 'PERF', 'IRWDV', 'SYM', 'CENTA', 'RVYL', 'GETY', 'WBD', 'CTIB', 'USEA', 'ELV', 'ALVO', 'BSEM', 'PRST', 'OPAL', 'MPTI', 'EVTV', 'KAL', 'SUNL', 'ETST', 'RGTI', 'SBIG', 'RUM', 'SHFS', 'NOGN', 'UPXI', 'BIOR', 'NRGV', 'WEST', 'KITT', 'GRNT', 'DPSI', 'IMNN', 'OIG', 'ALLG', 'SMR', 'BIAF', 'EPSN', 'ACDC', 'USEG', 'GROV', 'SST', 'AMPX', 'LSTA', 'AMLX', 'XWEL', 'IVVD', 'PET', 'AKLI', 'GBTG', 'KNTK', 'MATV', 'EE', 'MNMD', 'MOND', 'QBTS', 'WALD', 'FRGE', 'ADEA', 'RBT', 'ZIMV', 'SCTL', 'LNW', 'EGIO', 'LLAP', 'PR', 'RDW', 'BTMD', 'STR', 'CRBG', 'LSAK', 'EHAB', 'LAB', 'ACNT', 'CWBR', 'VVX', 'LVOX', 'CADL', 'CEG', 'DO', 'MNK', 'FRZA', 'LSXMK', 'MFIC', 'MODG', 'BALL', 'CHRD', 'DSGR', 'UA', 'ESAB', 'RITM', 'FIP', 'ENOV', 'ELME', 'FLIC', 'BFST', 'BLTE', 'TCBX', 'HTZ', 'HOUS', 'ZGN', 'NTGRV', 'META', 'PACW', 'GNS', 'MIST', 'CRGE', 'APLD', 'DICE', 'AERC', 'NLSP', 'GCT', 'PEPG', 'CHG', 'GRPS', 'DCFC', 'MLI', 'NVNO', 'DC', 'MAG', 'TNON', 'AADI', 'INVA', 'CENN', 'GZIC', 'CINC', 'NILE', 'SWVL', 'PROC', 'GRC', 'DXR', 'MICS', 'GNRS', 'HTLD', 'TBLTU', 'CUEN', 'SSIC', 'XFLT', 'QNRX', 'GNUS', 'LMFA', 'VRME', 'EP', 'INTR', 'PGY', 'PEV', 'GREE', 'FAZE', 'RELI', 'EDBL', 'BDRL', 'POAI', 'PFHC', 'SIDU', 'LIFD', 'CYAN', 'SOUN', 'MSPR', 'GGR', 'NXDT', 'XELAU', 'CMT', 'PALT', 'DINO', 'SASI', 'PFHD', 'FBMS', 'MNSB', 'MEGI', 'JEF', 'MYNZ', 'TRDA', 'AMAOU', 'PRTG', 'LIVC', 'ANEB', 'EPIX', 'ICVX', 'JSPR', 'THO', 'PVSP', 'LVWD', 'JT', 'GCEH', 'UNCY', 'TNGX', 'WULF', 'UEC', 'CETX', 'VACC', 'VIVK', 'GIAC', 'PGRU', 'TBLT', 'QNGY', 'MORN', 'FALC', 'LITM', 'SEED', 'ADSE']\n"
     ]
    },
    {
     "name": "stdout",
     "output_type": "stream",
     "text": [
      "[**********************48%%                      ]  2433 of 5027 completed"
     ]
    },
    {
     "name": "stderr",
     "output_type": "stream",
     "text": [
      "Failed to get ticker 'AINC' reason: HTTPSConnectionPool(host='query2.finance.yahoo.com', port=443): Read timed out. (read timeout=10)\n"
     ]
    },
    {
     "name": "stdout",
     "output_type": "stream",
     "text": [
      "[*********************100%%**********************]  5027 of 5027 completed********]  8478 of 5027 completed"
     ]
    },
    {
     "name": "stderr",
     "output_type": "stream",
     "text": [
      "\n",
      "808 Failed downloads:\n",
      "['WETF', 'IMH', 'MGMB', 'GTS', 'LEAF', 'MIC', 'CLR', 'FMBI', 'FRC', 'CINC', 'GBOX', 'CHRA', 'BCEI', 'AIMC', 'GSAH.UT', 'FFHL', 'PFPT', 'PHEC', 'MACQU', 'VCRA', 'FORG', 'SUMO', 'BOWXU', 'CMPI', 'RMO', 'DTM.WI', 'MCF', 'DVCR', 'ADGI', 'FSRD', 'SCVX.UT', 'BLCT', 'KNL', 'REV', 'SWM', 'WTRH', 'HOLUU', 'RBAC.UT', 'LHDX', 'GDP', 'ANTM', 'ONCS', 'ACIA', 'NTWN', 'VVNT', 'GLEO.UT', 'RESN', 'MSGN', 'KIN', 'CYRN', 'TMX', 'WTR', 'GXGX', 'FTRCQ', 'NOBL20', 'FAII.UT', 'FLIR', 'TSC', 'CSLT', 'BOAS', 'KBAL', 'DTEA', 'ALBO', 'BRK.B', 'SRLP', 'TRNFD', 'TDCAF', 'YELL', 'TRXC', 'ZNTE', 'OTIC', 'MMMB', 'QTT', 'DSPG', 'HYRE', 'CLNC', 'PROG', 'AUY', 'AFHIQ', 'FNHC', 'TREC', 'JCOM', 'GGPIU', 'WYND', 'SBTX', 'CYXT', 'ENDP', 'WFTLF', 'GNCA', 'BGCP', 'SBKK', 'NLSN', 'FSBTF', 'VNTR', 'HRTH', 'MIME', 'TGP', 'EYES', 'STPK', 'FSTX', 'NEOS', 'CYTR', 'VECT', 'ACIC.UT', 'NP', 'BKI', 'NBLX', 'CHNG', 'SNR', 'GLOG', 'JP', 'CNCE', 'YAC.UT', 'PSACU', 'ONEM', 'AGFS', 'LLNW', 'PNR.WI', 'IO', 'CBTX', 'RXN', 'SJI', 'OIG', 'ENJY', 'QUOT', 'STRN', 'FRTT', 'ANGN', 'MDP', 'SWIR', 'SMED', 'ATRS', 'MRLN', 'ARYA', 'PHAS', 'SPKE', 'PING', 'PAIC', 'ECHO', 'PVAC', 'LDL', 'VORB', 'TBLTU', 'IIN', 'COWN', 'SESN', 'IMAC', 'LPI', 'IMGO', 'CATB', 'APTS', 'RPAI', 'ACC', 'AIKI', 'PRTY', 'VMEOV', 'MTBC', 'CHWA', 'TWND.UT', 'CFACU', 'HSKA', 'CSOD', 'XSPA', 'SGFY', 'DCRCU', 'ACND.UT', 'AERC', 'FTOCU', 'VCVCU', 'CFMS', 'REPH', 'SUNS', 'AVYA', 'RMED', 'GBS', 'KNBE', 'ROT.UT', 'SYN', 'SMDM', 'SWCH', 'TVACU', 'FHS', 'OCDX', 'PFDRU', 'GNOG', 'BRG', 'JWS', 'STFC', 'TVPC', 'VLDR', 'IVC', 'KAL', 'UN', 'VOLT', 'AJAX.UT', 'DEH.UT', 'NWHM', 'TSIAU', 'MBNAA', 'CVT', 'KVSB', 'SOAC.UT', 'WRE', 'PRDS', 'RKLY', 'RUTH', 'SRRA', 'ENOB', 'EXFO', 'PAND', 'CECE', 'UEPS', 'CTEK', 'AKUS', 'DICE', 'CRD.A', 'HMPT', 'DCRBU', 'BTX', 'OYST', 'TVTY', 'DNAA', 'WLL', 'CHG', 'ISR', 'STXB', 'FPRX', 'ACBI', 'XENT', 'SI', 'TUFN', 'STL', 'BKEP', 'FTSI', 'INDT', 'CTB', 'EVOP', 'ATAX', 'CERN', 'CORE', 'LOGC', 'HMLP', 'HOME', 'LYLT', 'CRXT', 'PBFX', 'TPRE', 'FBHS', 'CRTX', 'APXTU', 'ITHX', 'UNVR', 'ATCX', 'LMRK', 'CTT', 'CIAN', 'QTNT', 'SPNE', 'CLBS', 'AGTC', 'SPPI', 'CIDM', 'WTT', 'SV', 'HCHC', 'NRX.XX1', 'AYLA', 'AJRD', 'PAE', 'SVMK', 'AMRS', 'CVLB', 'CRY', 'MOTNU', 'ROLL', 'CONE', 'FOREU', 'VEI', 'NTUS', 'HRC', 'WBEV', 'CLDR', 'XL', 'TWTR', 'IAA', 'TEUM', 'CORZ', 'PEI', 'SALT', 'IIVI', 'CDK', 'ANPC', 'QADB', 'ALNA', 'POLY', 'ATH', 'ETM', 'BHTG', 'IDRA', 'INT', 'TKKSU', 'DRE', 'CERC', 'XOG', 'TTCF', 'DNAY', 'GCP', 'FSRVU', 'HLBZ', 'OMP', 'UIHC', 'SCTY', 'FST.UT', 'NRZ', 'UMPQ', 'RAVN', 'KDMN', 'ATC', 'GRP.UT', 'CMD', 'AFI', 'GLOP', 'ROCC', 'MCFE', 'STSA', 'ZSAN', 'EPZM', 'LSI', 'DNAC', 'QTEK', 'SOLY', 'CRTD', 'PRVB', 'ORBC', 'ELMS', 'PEAR', 'SVOKU', 'QUMU', 'DPDW', 'AMCI', 'GBT', 'RCII', 'VG', 'FCCY', 'MSP', 'KSU', 'AHC', 'CLSN', 'FBC', 'SAIL', 'OPNT', 'BBBY', 'CTIC', 'VRAY', 'ALJJ', 'MOG.A', 'Y', 'HSC', 'APPH', 'DBDRU', 'QEP', 'ACEVU', 'PFHC', 'RTPZ.UT', 'USWS', 'JMP', 'VLTA', 'HZN', 'GMLP', 'AVLR', 'NYLD.A', 'HMTV', 'PSTH.UT', 'OBNK', 'FOCS', 'OSMT', 'VIAC', 'LFG', 'ISBC', 'NMTR', 'KSHB', 'OIIM', 'FEYE', 'AINC', 'SGLB', 'AVEO', 'NSTB.UT', 'CO', 'GRBX', 'PSB', 'GMTX', 'TLGT', 'MCG', 'SGMS', 'WLTW', 'JW.A', 'AFIN', 'FMTX', 'ESXB', 'MLHR', 'NILE', 'HEI.A', 'ARNC', 'CVET', 'SHLX', 'COUP', 'WLMS', 'ALR', 'TESS', 'SVACU', 'CLVS', 'CLXT', 'RDBX', 'RE', 'CSVI', 'OEG', 'YMTX', 'CPLG', 'PEYE', 'VEC', 'UFS', 'GWGH', 'LGF.A', 'QELLU', 'GNPK.UT', 'MNTV', 'SNII', 'ECOM', 'TRMT', 'BTN', 'DPW', 'CDR', 'XM', 'WSTG', 'AZRE', 'DPWRF', 'NOVN', 'SURF', 'TIG', 'CHFS', 'BASI', 'BVXV', 'NUVA', 'MNK', 'ADS', 'SQZ', 'USCR', 'FUSE.UT', 'ADMS', 'RRD', 'MTCR', 'MBII', 'DISCA', 'CTK', 'DRNA', 'TA', 'VLON', 'GTYH', 'CDAK', 'MKTY', 'VIVO', 'MBAC.UT', 'CXP', 'MODLY', 'NK', 'CBLI', 'ALTM', 'HTZZ', 'GNBT', 'CLNY', 'ELVT', 'ETH', 'TCRR', 'MKGI', 'GNMK', 'GMIIU', 'LNDC', 'XELAU', 'ISO', 'RESLF', 'IACA.UT', 'RXDX', 'FWAA', 'ELY', 'HHC', 'REDU', 'IPOE.UT', 'PTRA', 'BPMP', 'MMAC', 'TULLY', 'NMMC', 'ABTX', 'MILE', 'RBNC', 'NNA', 'BLI', 'ONE', 'ALUS.UT', 'DISCK', 'USER', 'MSLP', 'PPD', 'INS', 'SAFM', 'IRWDV', 'PSXP', 'CVA', 'CREE', 'MLVF', 'MGP', 'RICE.UT', 'NTGRV', 'RYB', 'HJLI', 'DCP', 'GWDAF', 'DSSI', 'GLS', 'TCDA', 'CCIV', 'TVA.EC', 'HMI', 'XAN', 'VRS', 'CINR', 'PAYA', 'DCT', 'RIDE', 'RABO3850847', 'FLMN', 'FLXN', 'SRGA', 'STOR', 'ENBL', 'SYKE', 'TREB.UT', 'FB', 'NEW', 'HTA', 'IS', 'BLL', 'PBCT', 'CRD.B', 'ORCC', 'SYNL', 'CSPR', 'PQG', 'KDNY', 'SREV', 'BXS', 'PEBO', 'CMO', 'MGI', 'AMOT', 'HIL', 'IMPX', 'RTPYU', 'ARD', 'PDCE', 'LCI', 'GBL', 'AQUA', 'MDCA', 'FPVD', 'PLT', 'PLXP', 'ANH', 'AINV', 'GWB', 'LHCG', 'TBK', 'WEBR', 'GMNNF', 'MSON', 'MNRL', 'MDLA', 'AUD', 'EMBK', 'TRCZF', 'FLDM', 'BNFT', 'RLGY', 'XLRN', 'OPA.UT', 'CRSA', 'GOED', 'PKI', 'BGRY', 'ICBK', 'MSPR', 'CURR', 'AZYO', 'DS', 'RADA', 'CNR', 'NHICU', 'BCOR', 'CIH', 'BBLN', 'RNWK', 'SFTW.UT', 'CCMP', 'AMRB', 'IEC', 'ETTX', 'NLOK', 'SIVB', 'ALXN', 'INFO', 'BDR', 'HNGR', 'HHR', 'NCBS', 'SMFR', 'CPTA', 'COMP.EQ', 'ECOL', 'WBT', 'PFHD', 'LAWS', 'CPST', 'ZGNX', 'USAK', 'ISEE', 'MNDT', 'HTBX', 'STAY', 'FLY', 'SBBP', 'PZN', 'ATTO', 'OAS', 'EDNC', 'BTRS', 'EQOS', 'CEMI', 'LB', 'APR', 'IEA', 'MTOR', 'ZVO', 'SGTX', 'CAI', 'CNVY', 'GRAY', 'HFC', 'COG', 'POSH', 'IMBI', 'FTCVU', 'OSH', 'NPTN', 'BRKS', 'STON', 'PTE', 'LOTZ', 'FRX.UT', 'HBMD', 'AUTO', 'STMP', 'CYBE', 'MYOV', 'ADOM', 'ALTA', 'SRNE', 'ZEN', 'TLDAY', 'XEC', 'SINGD', 'LMACU', 'MWK', 'TYME', 'IDW', 'LIVX', 'NBEV', 'BOXD', 'VTGGF', 'CNST', 'BMTC', 'GSKY', 'TPTX', 'ZNGA', 'CLI', 'AERI', 'GRA', 'NH', 'NBRV', 'TPCO', 'HTGM', 'BSN.UT', 'BSTG', 'GNUS', 'FRG', 'NFH', 'SNCA', 'MGLN', 'TLND', 'YRCW', 'RFP', 'PSTI', 'QNGY', 'HLG', 'CSU', 'GIAC', 'FISV', 'USX', 'MANT', 'KMPH', 'STAR', 'APEN', 'LSYN', 'BRMK', 'MITO', 'WRI', 'ATNX', 'SYX', 'CDEV', 'EXTN', 'LOV', 'EPAY', 'NUAN', 'STRY', 'IPLB', 'VER', 'NGACU', 'CLII.UT', 'TUEM', 'CSII', 'CFX', 'HBP', 'AESE', 'NXU.UT', 'SHSP', 'FVE', 'CHMA', 'SUMR', 'ARNA', 'LATNU', 'FOE', 'GSX', 'SATSV', 'WEJO', 'PPGHU', 'RAAS', 'RMNIU', 'SC', 'TRTC', 'NEX', 'PACE.UT', 'JNCE', 'CTXS', 'MLND', 'VNE', 'DSEY', 'GFN', 'ABC', 'GPX', 'MN', 'SBG.UT', 'BBI', 'ZIOP', 'QTS', 'TLMD', 'DKMR', 'CCXI', 'ZY', 'IMRA', 'AAWW', 'DFPHU', 'ADMP', 'PRSC', 'EMPW.UT', 'TEN', 'OBSV', 'SFUN', 'USAT', 'ZIXI', 'ATCO', 'KRA', 'SCHN', 'AZRX', 'PLAN', 'HMHC', 'LMNX', 'MICT', 'GHIVU']: Exception('%ticker%: No timezone found, symbol may be delisted')\n",
      "['QVCA', 'BAAPF', 'NVL', 'EXPRF', 'UVN', 'LGF.B', 'BF.B', 'XPRSA']: Exception('%ticker%: No price data found, symbol may be delisted (1d 2021-01-01 -> 2022-12-31)')\n",
      "['MAXN']: Exception('%ticker%: No price data found, symbol may be delisted (1d 2021-01-01 -> 2023-05-31)')\n",
      "['BQ', 'MAGS', 'FLOW', 'DBD', 'LTRY', 'MSGE', 'CR', 'ICCT', 'MNR', 'AMAM', 'INOV']: Exception(\"%ticker%: Data doesn't exist for startDate = 1609477200, endDate = 1672462800\")\n",
      "['ADNWW']: Exception(\"%ticker%: Period 'max' is invalid, must be one of ['1d', '5d']\")\n"
     ]
    },
    {
     "name": "stdout",
     "output_type": "stream",
     "text": [
      "\n",
      "                      Adj Close                                           \\\n",
      "                              A         AA  AACG       AADI  AAIC    AAL   \n",
      "Date                                                                       \n",
      "2021-01-04 00:00:00  118.001701  23.199335  1.18  15.750000  3.73  15.13   \n",
      "2021-01-05 00:00:00  118.966484  23.618420  1.23  16.049999  3.77  15.43   \n",
      "2021-01-06 00:00:00  122.228828  25.155064  1.22  16.500000  3.88  15.52   \n",
      "2021-01-07 00:00:00  125.481255  25.175020  1.27  16.950001  3.93  15.38   \n",
      "2021-01-08 00:00:00  126.376396  24.935543  1.24  16.799999  3.97  15.13   \n",
      "\n",
      "                                                              ...     Volume  \\\n",
      "                           AAN   AAOI       AAON         AAP  ...        ZTS   \n",
      "Date                                                          ...              \n",
      "2021-01-04 00:00:00  18.688023   8.76  42.954918  154.917297  ...  1805900.0   \n",
      "2021-01-05 00:00:00  19.443094   8.91  43.439499  154.749908  ...  1358600.0   \n",
      "2021-01-06 00:00:00  20.714794   9.58  45.722992  163.690094  ...  2139800.0   \n",
      "2021-01-07 00:00:00  21.231422   9.64  46.778446  165.088226  ...  1710700.0   \n",
      "2021-01-08 00:00:00  20.059074  10.19  46.008430  167.441437  ...  1475900.0   \n",
      "\n",
      "                                                                            \\\n",
      "                         ZUMZ        ZUO ZVIA ZVO        ZWS  ZY      ZYME   \n",
      "Date                                                                         \n",
      "2021-01-04 00:00:00  201900.0  2317500.0  NaN NaN   642000.0 NaN  240100.0   \n",
      "2021-01-05 00:00:00  253200.0  1161100.0  NaN NaN   629200.0 NaN  375800.0   \n",
      "2021-01-06 00:00:00  294400.0  1419600.0  NaN NaN  1418400.0 NaN  274900.0   \n",
      "2021-01-07 00:00:00  211300.0   825600.0  NaN NaN   917800.0 NaN  438900.0   \n",
      "2021-01-08 00:00:00  224300.0  1661500.0  NaN NaN   878000.0 NaN  801800.0   \n",
      "\n",
      "                                          \n",
      "                          ZYNE      ZYXI  \n",
      "Date                                      \n",
      "2021-01-04 00:00:00   680304.0  718300.0  \n",
      "2021-01-05 00:00:00  1492994.0  644160.0  \n",
      "2021-01-06 00:00:00  2022131.0  998580.0  \n",
      "2021-01-07 00:00:00  1358176.0  530310.0  \n",
      "2021-01-08 00:00:00   982225.0  881210.0  \n",
      "\n",
      "[5 rows x 30162 columns]\n"
     ]
    }
   ],
   "source": [
    "\n",
    "\n",
    "import yfinance as yf\n",
    "import pandas as pd\n",
    "\n",
    "\n",
    "ticker_list = model_data['ticker'].unique()\n",
    "\n",
    "string_list = [str(item) for item in ticker_list]\n",
    "\n",
    "# Fetch the historical daily data for the symbols\n",
    "data = yf.download(string_list, start='2021-01-01', end='2022-12-31')\n",
    "\n",
    "\n",
    "# Print the retrieved data\n",
    "print(data.head())\n",
    "\n",
    "\n"
   ]
  },
  {
   "cell_type": "code",
   "execution_count": 20,
   "id": "47976ce4",
   "metadata": {},
   "outputs": [
    {
     "name": "stdout",
     "output_type": "stream",
     "text": [
      "          Date   Adj Close                                           \\\n",
      "                         A         AA  AACG       AADI  AAIC    AAL   \n",
      "0   2021-01-04  118.001701  23.199335  1.18  15.750000  3.73  15.13   \n",
      "1   2021-01-05  118.966484  23.618420  1.23  16.049999  3.77  15.43   \n",
      "2   2021-01-06  122.228828  25.155064  1.22  16.500000  3.88  15.52   \n",
      "3   2021-01-07  125.481255  25.175020  1.27  16.950001  3.93  15.38   \n",
      "4   2021-01-08  126.376396  24.935543  1.24  16.799999  3.97  15.13   \n",
      "..         ...         ...        ...   ...        ...   ...    ...   \n",
      "600 2023-05-23         NaN        NaN   NaN        NaN   NaN    NaN   \n",
      "601 2023-05-24         NaN        NaN   NaN        NaN   NaN    NaN   \n",
      "602 2023-05-25         NaN        NaN   NaN        NaN   NaN    NaN   \n",
      "603 2023-05-26         NaN        NaN   NaN        NaN   NaN    NaN   \n",
      "604 2023-05-30         NaN        NaN   NaN        NaN   NaN    NaN   \n",
      "\n",
      "                                  ...     Volume                            \\\n",
      "           AAN   AAOI       AAON  ...        ZTS      ZUMZ        ZUO ZVIA   \n",
      "0    18.688023   8.76  42.954918  ...  1805900.0  201900.0  2317500.0  NaN   \n",
      "1    19.443094   8.91  43.439499  ...  1358600.0  253200.0  1161100.0  NaN   \n",
      "2    20.714794   9.58  45.722992  ...  2139800.0  294400.0  1419600.0  NaN   \n",
      "3    21.231422   9.64  46.778446  ...  1710700.0  211300.0   825600.0  NaN   \n",
      "4    20.059074  10.19  46.008430  ...  1475900.0  224300.0  1661500.0  NaN   \n",
      "..         ...    ...        ...  ...        ...       ...        ...  ...   \n",
      "600        NaN    NaN        NaN  ...        NaN       NaN        NaN  NaN   \n",
      "601        NaN    NaN        NaN  ...        NaN       NaN        NaN  NaN   \n",
      "602        NaN    NaN        NaN  ...        NaN       NaN        NaN  NaN   \n",
      "603        NaN    NaN        NaN  ...        NaN       NaN        NaN  NaN   \n",
      "604        NaN    NaN        NaN  ...        NaN       NaN        NaN  NaN   \n",
      "\n",
      "                                                       \n",
      "    ZVO        ZWS  ZY      ZYME       ZYNE      ZYXI  \n",
      "0   NaN   642000.0 NaN  240100.0   680304.0  718300.0  \n",
      "1   NaN   629200.0 NaN  375800.0  1492994.0  644160.0  \n",
      "2   NaN  1418400.0 NaN  274900.0  2022131.0  998580.0  \n",
      "3   NaN   917800.0 NaN  438900.0  1358176.0  530310.0  \n",
      "4   NaN   878000.0 NaN  801800.0   982225.0  881210.0  \n",
      "..   ..        ...  ..       ...        ...       ...  \n",
      "600 NaN        NaN NaN       NaN        NaN       NaN  \n",
      "601 NaN        NaN NaN       NaN        NaN       NaN  \n",
      "602 NaN        NaN NaN       NaN        NaN       NaN  \n",
      "603 NaN        NaN NaN       NaN        NaN       NaN  \n",
      "604 NaN        NaN NaN       NaN        NaN       NaN  \n",
      "\n",
      "[605 rows x 30163 columns]\n"
     ]
    }
   ],
   "source": [
    "print(data.reset_index())"
   ]
  },
  {
   "cell_type": "code",
   "execution_count": 47,
   "id": "f8e8ae54",
   "metadata": {},
   "outputs": [
    {
     "name": "stdout",
     "output_type": "stream",
     "text": [
      "                    Adj Close       Close        High         Low        Open  \\\n",
      "Date       Ticker                                                               \n",
      "2021-01-04 A       118.001701  118.639999  120.089996  117.110001  118.940002   \n",
      "           AA       23.199335   23.250000   24.450001   23.125000   23.620001   \n",
      "           AACG      1.180000    1.180000    1.220000    1.170000    1.170000   \n",
      "           AADI     15.750000   15.750000   16.049999   14.580000   14.925000   \n",
      "           AAIC      3.730000    3.730000    3.840000    3.670000    3.830000   \n",
      "\n",
      "                      Volume  \n",
      "Date       Ticker             \n",
      "2021-01-04 A       2030700.0  \n",
      "           AA      5400000.0  \n",
      "           AACG      18000.0  \n",
      "           AADI     373920.0  \n",
      "           AAIC     234200.0  \n"
     ]
    }
   ],
   "source": [
    "\n",
    "df = data.stack(level=1)\n",
    "df = df.rename_axis(['Date', 'Ticker'], axis=0)\n",
    "print(df.head())"
   ]
  },
  {
   "cell_type": "code",
   "execution_count": 48,
   "id": "162beb05",
   "metadata": {},
   "outputs": [
    {
     "name": "stdout",
     "output_type": "stream",
     "text": [
      "        Date Ticker   Adj Close       Close        High         Low  \\\n",
      "0 2021-01-04      A  118.001701  118.639999  120.089996  117.110001   \n",
      "1 2021-01-04     AA   23.199335   23.250000   24.450001   23.125000   \n",
      "2 2021-01-04   AACG    1.180000    1.180000    1.220000    1.170000   \n",
      "3 2021-01-04   AADI   15.750000   15.750000   16.049999   14.580000   \n",
      "4 2021-01-04   AAIC    3.730000    3.730000    3.840000    3.670000   \n",
      "\n",
      "         Open     Volume  \n",
      "0  118.940002  2030700.0  \n",
      "1   23.620001  5400000.0  \n",
      "2    1.170000    18000.0  \n",
      "3   14.925000   373920.0  \n",
      "4    3.830000   234200.0  \n"
     ]
    }
   ],
   "source": [
    "df = df.reset_index().dropna()\n",
    "print(df.head())"
   ]
  },
  {
   "cell_type": "code",
   "execution_count": 49,
   "id": "1cf23d04",
   "metadata": {},
   "outputs": [
    {
     "name": "stderr",
     "output_type": "stream",
     "text": [
      "C:\\Users\\quinn\\AppData\\Local\\Temp\\ipykernel_12144\\1304813216.py:3: SettingWithCopyWarning: \n",
      "A value is trying to be set on a copy of a slice from a DataFrame.\n",
      "Try using .loc[row_indexer,col_indexer] = value instead\n",
      "\n",
      "See the caveats in the documentation: https://pandas.pydata.org/pandas-docs/stable/user_guide/indexing.html#returning-a-view-versus-a-copy\n",
      "  reversed_df['18_month_fw_volatility'] = reversed_df.groupby('Ticker')['return'].rolling(window=378).std().reset_index(level=0, drop=True)\n"
     ]
    }
   ],
   "source": [
    "df['return'] = df.groupby('Ticker')['Close'].pct_change()\n",
    "reversed_df = df.iloc[::-1]\n",
    "reversed_df['18_month_fw_volatility'] = reversed_df.groupby('Ticker')['return'].rolling(window=378).std().reset_index(level=0, drop=True)\n",
    "\n",
    "# Now reverse the DataFrame back to original order\n",
    "df['18_month_fw_volatility'] = reversed_df['18_month_fw_volatility'].iloc[::-1]\n",
    "\n",
    "# If you want to match the original DataFrame's index\n",
    "df['18_month_fw_volatility'] = df['18_month_fw_volatility'].reset_index(level=0, drop=True)"
   ]
  },
  {
   "cell_type": "code",
   "execution_count": 53,
   "id": "522b4f49",
   "metadata": {},
   "outputs": [
    {
     "name": "stderr",
     "output_type": "stream",
     "text": [
      "100%|██████████| 4221/4221 [11:15<00:00,  6.25it/s]\n"
     ]
    }
   ],
   "source": [
    "#Add all TA Indicators (20 minutes to calculate. Production model will only calculate top indicators)\n",
    "\n",
    "from tqdm import tqdm\n",
    "from ta import add_all_ta_features\n",
    "import pandas as pd\n",
    "\n",
    "def add_ta_features(group):\n",
    "    if len(group) > 30:  # Ensure enough data points for TA calculations\n",
    "        return add_all_ta_features(\n",
    "            group,\n",
    "            open=\"Open\", high=\"High\", low=\"Low\", close=\"Close\", volume=\"Volume\",\n",
    "            fillna=True\n",
    "        )\n",
    "    else:\n",
    "        return group\n",
    "\n",
    "# Group the DataFrame\n",
    "grouped = df.groupby('Ticker', group_keys=False)\n",
    "\n",
    "# Prepare a list to collect the processed DataFrames\n",
    "processed_groups = []\n",
    "\n",
    "# Use tqdm to track the progress\n",
    "for name, group in tqdm(grouped, total=grouped.ngroups):\n",
    "    processed_groups.append(add_ta_features(group))\n",
    "\n",
    "# Concatenate all the processed DataFrames\n",
    "df_with_ta = pd.concat(processed_groups)\n",
    "\n",
    "# Reset the index if necessary\n",
    "df_with_ta = df_with_ta.reset_index(drop=True)"
   ]
  },
  {
   "cell_type": "code",
   "execution_count": 58,
   "id": "4cec3877",
   "metadata": {},
   "outputs": [],
   "source": [
    "df_with_ta.dropna(inplace=True)"
   ]
  },
  {
   "cell_type": "code",
   "execution_count": 70,
   "id": "8fa496cf",
   "metadata": {},
   "outputs": [],
   "source": [
    "from sklearn.feature_selection import SelectKBest, f_classif, f_regression  \n",
    "from sklearn.model_selection import train_test_split\n",
    "from sklearn.preprocessing import StandardScaler \n",
    "\n",
    "# Select K Best Analysis\n",
    "\n",
    "X = df_with_ta.drop(columns=['18_month_fw_volatility','Ticker', 'Date'])  # Drop the target and non-feature columns\n",
    "y = df_with_ta['18_month_fw_volatility']  # This is your target variable\n",
    "\n",
    "\n",
    "scaler = StandardScaler()\n",
    "X_scaled = scaler.fit_transform(X) \n",
    "\n",
    "X_scaled_df = pd.DataFrame(X_scaled, columns=X.columns)\n",
    "\n",
    "# Define the number of top features you want to select\n",
    "k = 10  # For example, the top 10 features\n",
    "\n",
    "# Create the SelectKBest with a suitable score function\n",
    "selector = SelectKBest(score_func=f_regression, k=k)  # Use f_regression for regression tasks\n",
    "\n",
    "# Fit the selector to your data\n",
    "selector.fit(X_scaled_df, y)\n",
    "\n",
    "# Transform the data to the selected feature space\n",
    "X_selected = selector.transform(X)"
   ]
  },
  {
   "cell_type": "code",
   "execution_count": 71,
   "id": "4eb92fb5",
   "metadata": {},
   "outputs": [
    {
     "name": "stdout",
     "output_type": "stream",
     "text": [
      "   Adj Close     Close      High       Low      Open    Volume    return  \\\n",
      "0   0.006687  0.006805  0.003743  0.010287  0.005753  0.011336  0.084650   \n",
      "1   0.008344  0.008472  0.005313  0.010370  0.005858  0.016998  0.370168   \n",
      "2   0.009997  0.010133  0.006901  0.013880  0.008663 -0.026733  0.358103   \n",
      "3   0.010452  0.010591  0.006972  0.014915  0.009737 -0.040048  0.069188   \n",
      "4   0.011002  0.011145  0.007722  0.015141  0.009718 -0.028683  0.090622   \n",
      "\n",
      "   volume_adi  volume_obv  volume_cmf  ...  momentum_ppo  momentum_ppo_signal  \\\n",
      "0   -0.021708   -0.082904    1.079349  ...     -0.160722            -0.183254   \n",
      "1   -0.006107   -0.072413    1.918336  ...     -0.098098            -0.167053   \n",
      "2   -0.002309   -0.064740    1.751842  ...      0.000188            -0.132783   \n",
      "3    0.003170   -0.057926    1.764885  ...      0.088164            -0.086292   \n",
      "4    0.007218   -0.050380    1.683542  ...      0.169807            -0.031399   \n",
      "\n",
      "   momentum_ppo_hist  momentum_pvo  momentum_pvo_signal  momentum_pvo_hist  \\\n",
      "0           0.025549      0.240376             0.221867           0.115948   \n",
      "1           0.171890      0.310337             0.251865           0.210195   \n",
      "2           0.376530      0.223129             0.254956           0.021880   \n",
      "3           0.514925      0.108298             0.229899          -0.175120   \n",
      "4           0.610089      0.055051             0.197089          -0.229390   \n",
      "\n",
      "   momentum_kama  others_dr  others_dlr  others_cr  \n",
      "0       0.005694   0.084650    0.151485  -0.113124  \n",
      "1       0.006184   0.370168    0.573003  -0.101408  \n",
      "2       0.006802   0.358103    0.555352  -0.089727  \n",
      "3       0.007291   0.069188    0.128429  -0.086512  \n",
      "4       0.007738   0.090622    0.160384  -0.082619  \n",
      "\n",
      "[5 rows x 93 columns]\n"
     ]
    }
   ],
   "source": [
    "print(X_scaled_df.head())"
   ]
  },
  {
   "cell_type": "code",
   "execution_count": 72,
   "id": "275de9fb",
   "metadata": {},
   "outputs": [
    {
     "name": "stdout",
     "output_type": "stream",
     "text": [
      "                      Feature        Score        P-Value  Selected\n",
      "27             volatility_kcw  7276.022993   0.000000e+00      True\n",
      "37              volatility_ui  2910.989196   0.000000e+00      True\n",
      "34             volatility_dcw  2759.898047   0.000000e+00      True\n",
      "20             volatility_bbw  2723.783467   0.000000e+00      True\n",
      "5                      Volume  1350.248376  3.507351e-295      True\n",
      "..                        ...          ...            ...       ...\n",
      "71  trend_psar_down_indicator     0.017290   8.953872e-01     False\n",
      "30            volatility_kcli     0.017014   8.962210e-01     False\n",
      "91                 others_dlr     0.008195   9.278681e-01     False\n",
      "40            trend_macd_diff     0.002828   9.575919e-01     False\n",
      "23            volatility_bbli     0.001490   9.692085e-01     False\n",
      "\n",
      "[93 rows x 4 columns]\n"
     ]
    }
   ],
   "source": [
    "# Get the scores and p-values for each feature\n",
    "scores = selector.scores_\n",
    "p_values = selector.pvalues_\n",
    "\n",
    "# Get the mask of the selected features\n",
    "selected_features_mask = selector.get_support()\n",
    "\n",
    "# Create a DataFrame for displaying the results\n",
    "features = pd.DataFrame({\n",
    "    'Feature': X.columns,\n",
    "    'Score': scores,\n",
    "    'P-Value': p_values,\n",
    "    'Selected': selected_features_mask\n",
    "})\n",
    "\n",
    "# Sort the DataFrame by scores in descending order for better visibility\n",
    "features.sort_values(by='Score', ascending=False, inplace=True)\n",
    "\n",
    "# Display the results\n",
    "print(features)"
   ]
  },
  {
   "cell_type": "code",
   "execution_count": 73,
   "id": "0b2e386b",
   "metadata": {},
   "outputs": [
    {
     "name": "stdout",
     "output_type": "stream",
     "text": [
      "                  Feature        Score        P-Value  Selected\n",
      "27         volatility_kcw  7276.022993   0.000000e+00      True\n",
      "37          volatility_ui  2910.989196   0.000000e+00      True\n",
      "34         volatility_dcw  2759.898047   0.000000e+00      True\n",
      "20         volatility_bbw  2723.783467   0.000000e+00      True\n",
      "5                  Volume  1350.248376  3.507351e-295      True\n",
      "13             volume_vpt   487.408420  5.908929e-108      True\n",
      "35         volatility_dcp   422.588105   7.321261e-94      True\n",
      "79  momentum_stoch_signal   339.542778   8.523223e-76      True\n",
      "65         trend_aroon_up   332.398290   3.058542e-74      True\n",
      "76           momentum_tsi   320.790345   1.028265e-71      True\n",
      "78         momentum_stoch   300.036755   3.390047e-67     False\n",
      "80            momentum_wr   300.036755   3.390047e-67     False\n",
      "67        trend_aroon_ind   287.402284   1.911376e-64     False\n",
      "84    momentum_ppo_signal   269.506194   1.510216e-60     False\n",
      "72           momentum_rsi   262.674426   4.647825e-59     False\n"
     ]
    }
   ],
   "source": [
    "print(features.head(15))"
   ]
  }
 ],
 "metadata": {
  "kernelspec": {
   "display_name": "Python 3 (ipykernel)",
   "language": "python",
   "name": "python3"
  },
  "language_info": {
   "codemirror_mode": {
    "name": "ipython",
    "version": 3
   },
   "file_extension": ".py",
   "mimetype": "text/x-python",
   "name": "python",
   "nbconvert_exporter": "python",
   "pygments_lexer": "ipython3",
   "version": "3.11.5"
  }
 },
 "nbformat": 4,
 "nbformat_minor": 5
}
