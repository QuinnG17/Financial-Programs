{
  "nbformat": 4,
  "nbformat_minor": 0,
  "metadata": {
    "colab": {
      "provenance": [],
      "authorship_tag": "ABX9TyN7oWAe15zTMTqQ/gie2jTL",
      "include_colab_link": true
    },
    "kernelspec": {
      "name": "python3",
      "display_name": "Python 3"
    },
    "language_info": {
      "name": "python"
    }
  },
  "cells": [
    {
      "cell_type": "markdown",
      "metadata": {
        "id": "view-in-github",
        "colab_type": "text"
      },
      "source": [
        "<a href=\"https://colab.research.google.com/github/QuinnG17/Financial-Programs/blob/main/QUANT_CONNECT_INCREMENTAL.ipynb\" target=\"_parent\"><img src=\"https://colab.research.google.com/assets/colab-badge.svg\" alt=\"Open In Colab\"/></a>"
      ]
    },
    {
      "cell_type": "code",
      "execution_count": null,
      "metadata": {
        "id": "qmhC3CtFo3vo"
      },
      "outputs": [],
      "source": [
        "%sql create or replace table alpha_two.ALL_DATE_METRICS as select * from final_output"
      ]
    },
    {
      "cell_type": "code",
      "source": [
        "\n",
        "api_key = '28c4dda990c8903ccba29687b06969a4120680242b523193d087919db39984b4'\n",
        "\n",
        "# Get timestamp\n",
        "timestamp = str(int(time.time()))\n",
        "time_stamped_token = api_key + ':' + timestamp\n",
        "\n",
        "\n",
        "# Get hased API token\n",
        "hashed_token = hashlib.sha256(time_stamped_token.encode('utf-8')).hexdigest()\n",
        "authentication = \"{}:{}\".format(222110, hashed_token)\n",
        "api_token = base64.b64encode(authentication.encode('utf-8')).decode('ascii')\n",
        "\n",
        "\n",
        "# Create headers dictionary.\n",
        "headers = {\n",
        "    'Authorization': 'Basic %s' % api_token,\n",
        "    'Timestamp': timestamp\n",
        "}\n",
        "\n",
        "\n",
        "base_url = 'https://www.quantconnect.com/api/v2/backtests/read/BacktestList'\n",
        "project_id = 14480263\n",
        "\n",
        "\n",
        "# Create POST Request with headers (optional: Json Content as data argument).\n",
        "response = requests.post(base_url,\n",
        "                         data = {\n",
        "                             \"projectId\": project_id\n",
        "                                 },\n",
        "                         headers = headers)\n",
        "\n",
        "\n",
        "backtestList = response.json()\n",
        "backtests = []\n",
        "backtestTrades = []\n",
        "base_url = 'https://www.quantconnect.com/api/v2/backtests/read/Trade'\n",
        "\n",
        "\n",
        "for backtest in backtestList['backtests']:\n",
        "    backtests.append(backtest['backtestId'])\n",
        "\n",
        "#print(backtests[0])\n",
        "\n",
        "\n",
        "#for backtest in backtests[0]:\n",
        "response = requests.post(base_url,\n",
        "                         data = {\n",
        "                             #\"start\": 0,\n",
        "                             #\"end\": 0,\n",
        "                             \"projectId\": project_id,\n",
        "                             \"backtestId\": backtests[201]\n",
        "                                 },\n",
        "                         headers = headers)\n",
        "\n",
        "\n",
        "results = response.json()\n",
        "trades = results['backtest']['charts']['Strategy Equity']['Series']['Daily Performance']['Values']\n",
        "symbol = results['backtest']['totalPerformance']['ClosedTrades'][0]['Symbol']['Permtick']\n",
        "start_date = pd.to_datetime(results['backtest']['backtestStart'])\n",
        "end_date = pd.to_datetime(results['backtest']['backtestEnd'])\n",
        "\n",
        "\n",
        "df = pd.DataFrame(trades)\n",
        "df = df.transpose()\n",
        "df.columns = df.iloc[0]\n",
        "df = df.drop(df.index[0])\n",
        "df['Symbol'] = symbol\n",
        "\n",
        "df = df.reset_index()\n",
        "df = df.drop(df.columns[[0, 1]], axis=1)\n",
        "col_name = 'Symbol'\n",
        "first_col = df.pop(col_name)\n",
        "df.insert(0, col_name, first_col)\n",
        "\n",
        "# Create a date range with the desired frequency (1 day in this case)\n",
        "date_range = pd.date_range(start=start_date, end=end_date, freq='D')\n",
        "\n",
        "# Set the date range as the column names of the DataFrame\n",
        "df.columns = ['Symbol'] + list(date_range)\n",
        "\n",
        "valid_backtests = []\n",
        "\n",
        "\n",
        "\n",
        "for backtest in backtests:\n",
        "\n",
        "    response = requests.post(base_url,\n",
        "                             data = {\n",
        "                                 #\"start\": 0,\n",
        "                                 #\"end\": 0,\n",
        "                                 \"projectId\": project_id,\n",
        "                                 \"backtestId\": backtest\n",
        "                                     },\n",
        "                             headers = headers)\n",
        "\n",
        "    results = response.json()\n",
        "\n",
        "    if pd.to_datetime(results['backtest']['backtestEnd']) < daily_returns['Date'].iloc[-1]:\n",
        "        continue\n",
        "\n",
        "    if len(results['backtest']['charts']) == 0:\n",
        "        continue\n",
        "    if len(results['backtest']['charts']['Strategy Equity']) == 0:\n",
        "        continue\n",
        "    if 'Series' not in results['backtest']['charts']['Strategy Equity'].keys():\n",
        "        continue\n",
        "\n",
        "\n",
        "    trades = results['backtest']['charts']['Strategy Equity']['Series']['Daily Performance']['Values']\n",
        "\n",
        "    if len(trades) == 0:\n",
        "        continue\n",
        "\n",
        "\n",
        "    if len(results['backtest']['totalPerformance']['ClosedTrades']) == 0:\n",
        "        continue\n",
        "\n",
        "\n",
        "    symbol = results['backtest']['totalPerformance']['ClosedTrades'][0]['Symbol']['Permtick']\n",
        "    trades = results['backtest']['charts']['Strategy Equity']['Series']['Daily Performance']['Values']\n",
        "    start_date = pd.to_datetime(results['backtest']['backtestStart'])\n",
        "    end_date = pd.to_datetime(results['backtest']['backtestEnd'])\n",
        "    df1 = pd.DataFrame(trades)\n",
        "    df1 = df1.transpose()\n",
        "    df1.columns = df1.iloc[0]\n",
        "    df1 = df1.drop(df1.index[0])\n",
        "    df1['Symbol'] = symbol\n",
        "\n",
        "\n",
        "    df1 = df1.reset_index()\n",
        "    df1 = df1.drop(df1.columns[[0, 1]], axis=1)\n",
        "    col_name = 'Symbol'\n",
        "    first_col = df1.pop(col_name)\n",
        "    df1.insert(0, col_name, first_col)\n",
        "\n",
        "    # Create a date range with the desired frequency (1 day in this case)\n",
        "    date_range = pd.date_range(start=start_date, end=end_date, freq='D')\n",
        "\n",
        "\n",
        "    # Set the date range as the column names of the DataFrame\n",
        "    if len(list(date_range)) + 1 != len(df1.columns):\n",
        "        continue\n",
        "\n",
        "    df1.columns = ['Symbol'] + list(date_range)\n",
        "\n",
        "    df = df.append(df1, sort=False).fillna(0)\n",
        "\n",
        "    if len(df) == 10:\n",
        "       df = df\n",
        "\n",
        "    print(len(df) / len(backtests))\n",
        "\n",
        "\n",
        "df = df.reset_index()\n",
        "col_name = 'Symbol'\n",
        "first_col = df.pop(col_name)\n",
        "df.insert(0, col_name, first_col)\n",
        "df = df.set_index('Symbol')\n"
      ],
      "metadata": {
        "id": "oUEMp0SSpHeh"
      },
      "execution_count": null,
      "outputs": []
    },
    {
      "cell_type": "code",
      "source": [
        "df = df.drop_duplicates()\n",
        "df = df.drop(columns='index')\n",
        "df = df.T\n",
        "df = df.reset_index(drop=False)\n",
        "df = df.rename(columns=lambda x: x.strip())\n",
        "df = df.rename(columns={'index': 'Date'})\n",
        "\n",
        "df.iloc[:, 1:] = df.iloc[:, 1:].astype(float)\n",
        "df = df.iloc[:, ~df.columns.duplicated(keep='last')]\n"
      ],
      "metadata": {
        "id": "vj61IW_ypJB8"
      },
      "execution_count": null,
      "outputs": []
    },
    {
      "cell_type": "code",
      "source": [
        "df = df.set_index('Date')\n",
        "df = df[df.index > daily_returns['Date'].iloc[-1]]\n"
      ],
      "metadata": {
        "id": "EG3fq96UpJkN"
      },
      "execution_count": null,
      "outputs": []
    },
    {
      "cell_type": "code",
      "source": [
        "df = df.reset_index()\n"
      ],
      "metadata": {
        "id": "R5qS8aoxpKwb"
      },
      "execution_count": null,
      "outputs": []
    },
    {
      "cell_type": "code",
      "source": [
        "full = pd.concat([daily_returns, df]).fillna(0)\n"
      ],
      "metadata": {
        "id": "jz0tWFGEpL3G"
      },
      "execution_count": null,
      "outputs": []
    },
    {
      "cell_type": "code",
      "source": [
        "from pyspark.sql import SparkSession\n",
        "\n",
        "df.iloc[:, 1:] = df.iloc[:, 1:].astype(float)\n",
        "\n",
        "spark.conf.set(\"spark.sql.execution.arrow.pyspark.enabled\", \"false\")\n",
        "\n",
        "# Create a SparkSession\n",
        "spark2 = SparkSession.builder.appName('pandas-to-databricks').getOrCreate()\n",
        "\n",
        "final_daily_changes = spark2.createDataFrame(full)\n",
        "\n",
        "final_daily_changes.createOrReplaceTempView('final_daily_changes')"
      ],
      "metadata": {
        "id": "Wix9zHncpN3X"
      },
      "execution_count": null,
      "outputs": []
    },
    {
      "cell_type": "code",
      "source": [
        "%sql create or replace table alpha_two.ALL_DAILY_RETURNS_BACKUP as select * from alpha_two.ALL_DAILY_RETURNS"
      ],
      "metadata": {
        "id": "vYGVf0pspOox"
      },
      "execution_count": null,
      "outputs": []
    },
    {
      "cell_type": "code",
      "source": [
        "%sql create or replace table alpha_two.ALL_DAILY_RETURNS as select * from final_daily_changes"
      ],
      "metadata": {
        "id": "fRitjxn-pQGg"
      },
      "execution_count": null,
      "outputs": []
    }
  ]
}