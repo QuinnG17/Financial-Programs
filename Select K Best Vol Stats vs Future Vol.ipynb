{
 "cells": [
  {
   "cell_type": "code",
   "execution_count": 1,
   "id": "2a797f22",
   "metadata": {},
   "outputs": [
    {
     "name": "stdout",
     "output_type": "stream",
     "text": [
      "Requirement already satisfied: tqdm in c:\\users\\quinn\\anaconda3\\lib\\site-packages (4.65.0)\n",
      "Requirement already satisfied: colorama in c:\\users\\quinn\\anaconda3\\lib\\site-packages (from tqdm) (0.4.6)\n"
     ]
    }
   ],
   "source": [
    "!pip install tqdm"
   ]
  },
  {
   "cell_type": "code",
   "execution_count": 2,
   "id": "ca1aba63",
   "metadata": {},
   "outputs": [
    {
     "name": "stdout",
     "output_type": "stream",
     "text": [
      "Collecting yfinance\n",
      "  Obtaining dependency information for yfinance from https://files.pythonhosted.org/packages/e6/b3/388ab967a387cc92926f70e97688dd9a7189b29a0773db815ffc5289e2b5/yfinance-0.2.31-py2.py3-none-any.whl.metadata\n",
      "  Downloading yfinance-0.2.31-py2.py3-none-any.whl.metadata (11 kB)\n",
      "Requirement already satisfied: pandas>=1.3.0 in c:\\users\\quinn\\anaconda3\\lib\\site-packages (from yfinance) (2.0.3)\n",
      "Requirement already satisfied: numpy>=1.16.5 in c:\\users\\quinn\\anaconda3\\lib\\site-packages (from yfinance) (1.24.3)\n",
      "Requirement already satisfied: requests>=2.31 in c:\\users\\quinn\\anaconda3\\lib\\site-packages (from yfinance) (2.31.0)\n",
      "Collecting multitasking>=0.0.7 (from yfinance)\n",
      "  Downloading multitasking-0.0.11-py3-none-any.whl (8.5 kB)\n",
      "Requirement already satisfied: lxml>=4.9.1 in c:\\users\\quinn\\anaconda3\\lib\\site-packages (from yfinance) (4.9.3)\n",
      "Requirement already satisfied: appdirs>=1.4.4 in c:\\users\\quinn\\anaconda3\\lib\\site-packages (from yfinance) (1.4.4)\n",
      "Requirement already satisfied: pytz>=2022.5 in c:\\users\\quinn\\anaconda3\\lib\\site-packages (from yfinance) (2023.3.post1)\n",
      "Collecting frozendict>=2.3.4 (from yfinance)\n",
      "  Downloading frozendict-2.3.8-py311-none-any.whl (14 kB)\n",
      "Collecting peewee>=3.16.2 (from yfinance)\n",
      "  Downloading peewee-3.17.0.tar.gz (2.9 MB)\n",
      "     ---------------------------------------- 0.0/2.9 MB ? eta -:--:--\n",
      "      --------------------------------------- 0.0/2.9 MB 960.0 kB/s eta 0:00:04\n",
      "     ----- ---------------------------------- 0.4/2.9 MB 4.1 MB/s eta 0:00:01\n",
      "     ---------------------- ----------------- 1.7/2.9 MB 11.7 MB/s eta 0:00:01\n",
      "     ---------------------------------------  2.9/2.9 MB 17.0 MB/s eta 0:00:01\n",
      "     ---------------------------------------- 2.9/2.9 MB 15.6 MB/s eta 0:00:00\n",
      "  Installing build dependencies: started\n",
      "  Installing build dependencies: finished with status 'done'\n",
      "  Getting requirements to build wheel: started\n",
      "  Getting requirements to build wheel: finished with status 'done'\n",
      "  Preparing metadata (pyproject.toml): started\n",
      "  Preparing metadata (pyproject.toml): finished with status 'done'\n",
      "Requirement already satisfied: beautifulsoup4>=4.11.1 in c:\\users\\quinn\\anaconda3\\lib\\site-packages (from yfinance) (4.12.2)\n",
      "Collecting html5lib>=1.1 (from yfinance)\n",
      "  Downloading html5lib-1.1-py2.py3-none-any.whl (112 kB)\n",
      "     ---------------------------------------- 0.0/112.2 kB ? eta -:--:--\n",
      "     ---------------------------------------- 112.2/112.2 kB ? eta 0:00:00\n",
      "Requirement already satisfied: soupsieve>1.2 in c:\\users\\quinn\\anaconda3\\lib\\site-packages (from beautifulsoup4>=4.11.1->yfinance) (2.4)\n",
      "Requirement already satisfied: six>=1.9 in c:\\users\\quinn\\anaconda3\\lib\\site-packages (from html5lib>=1.1->yfinance) (1.16.0)\n",
      "Requirement already satisfied: webencodings in c:\\users\\quinn\\anaconda3\\lib\\site-packages (from html5lib>=1.1->yfinance) (0.5.1)\n",
      "Requirement already satisfied: python-dateutil>=2.8.2 in c:\\users\\quinn\\anaconda3\\lib\\site-packages (from pandas>=1.3.0->yfinance) (2.8.2)\n",
      "Requirement already satisfied: tzdata>=2022.1 in c:\\users\\quinn\\anaconda3\\lib\\site-packages (from pandas>=1.3.0->yfinance) (2023.3)\n",
      "Requirement already satisfied: charset-normalizer<4,>=2 in c:\\users\\quinn\\anaconda3\\lib\\site-packages (from requests>=2.31->yfinance) (2.0.4)\n",
      "Requirement already satisfied: idna<4,>=2.5 in c:\\users\\quinn\\anaconda3\\lib\\site-packages (from requests>=2.31->yfinance) (3.4)\n",
      "Requirement already satisfied: urllib3<3,>=1.21.1 in c:\\users\\quinn\\anaconda3\\lib\\site-packages (from requests>=2.31->yfinance) (1.26.16)\n",
      "Requirement already satisfied: certifi>=2017.4.17 in c:\\users\\quinn\\anaconda3\\lib\\site-packages (from requests>=2.31->yfinance) (2023.7.22)\n",
      "Downloading yfinance-0.2.31-py2.py3-none-any.whl (65 kB)\n",
      "   ---------------------------------------- 0.0/65.6 kB ? eta -:--:--\n",
      "   ---------------------------------------- 65.6/65.6 kB ? eta 0:00:00\n",
      "Building wheels for collected packages: peewee\n",
      "  Building wheel for peewee (pyproject.toml): started\n",
      "  Building wheel for peewee (pyproject.toml): finished with status 'done'\n",
      "  Created wheel for peewee: filename=peewee-3.17.0-py3-none-any.whl size=135766 sha256=00f91101e034ab5fbb3ec2892d6417b1f1783be74888b19a8874c18b977bfbce\n",
      "  Stored in directory: c:\\users\\quinn\\appdata\\local\\pip\\cache\\wheels\\02\\20\\23\\74a10d0cd31f5d41c19b92ddf4c138ceff01b9f4675f19dbf5\n",
      "Successfully built peewee\n",
      "Installing collected packages: peewee, multitasking, html5lib, frozendict, yfinance\n",
      "Successfully installed frozendict-2.3.8 html5lib-1.1 multitasking-0.0.11 peewee-3.17.0 yfinance-0.2.31\n"
     ]
    }
   ],
   "source": [
    "!pip install yfinance"
   ]
  },
  {
   "cell_type": "code",
   "execution_count": 51,
   "id": "527372ea",
   "metadata": {},
   "outputs": [
    {
     "name": "stdout",
     "output_type": "stream",
     "text": [
      "Collecting ta\n",
      "  Downloading ta-0.11.0.tar.gz (25 kB)\n",
      "  Preparing metadata (setup.py): started\n",
      "  Preparing metadata (setup.py): finished with status 'done'\n",
      "Requirement already satisfied: numpy in c:\\users\\quinn\\anaconda3\\lib\\site-packages (from ta) (1.24.3)\n",
      "Requirement already satisfied: pandas in c:\\users\\quinn\\anaconda3\\lib\\site-packages (from ta) (2.0.3)\n",
      "Requirement already satisfied: python-dateutil>=2.8.2 in c:\\users\\quinn\\anaconda3\\lib\\site-packages (from pandas->ta) (2.8.2)\n",
      "Requirement already satisfied: pytz>=2020.1 in c:\\users\\quinn\\anaconda3\\lib\\site-packages (from pandas->ta) (2023.3.post1)\n",
      "Requirement already satisfied: tzdata>=2022.1 in c:\\users\\quinn\\anaconda3\\lib\\site-packages (from pandas->ta) (2023.3)\n",
      "Requirement already satisfied: six>=1.5 in c:\\users\\quinn\\anaconda3\\lib\\site-packages (from python-dateutil>=2.8.2->pandas->ta) (1.16.0)\n",
      "Building wheels for collected packages: ta\n",
      "  Building wheel for ta (setup.py): started\n",
      "  Building wheel for ta (setup.py): finished with status 'done'\n",
      "  Created wheel for ta: filename=ta-0.11.0-py3-none-any.whl size=29422 sha256=331ed14112518373a72da91c72c0a94dcdcbd0b907b101d6fd82508b267c6e4b\n",
      "  Stored in directory: c:\\users\\quinn\\appdata\\local\\pip\\cache\\wheels\\a1\\d7\\29\\7781cc5eb9a3659d032d7d15bdd0f49d07d2b24fec29f44bc4\n",
      "Successfully built ta\n",
      "Installing collected packages: ta\n",
      "Successfully installed ta-0.11.0\n"
     ]
    }
   ],
   "source": [
    "!pip install ta"
   ]
  },
  {
   "cell_type": "code",
   "execution_count": 25,
   "id": "d97edb5c",
   "metadata": {},
   "outputs": [],
   "source": [
    "import pandas as pd\n",
    "import requests\n",
    "from io import StringIO\n",
    "\n",
    "# Dropbox URLs\n",
    "\n",
    "url_2019 = r\"C:\\Users\\quinn\\Downloads\\Comprehend_Elite_Customer_Historical_Package-20230212T215237Z-001\\Comprehend Elite - Customer Historical Package\\elite_historical_2019.csv\"\n",
    "url_2020 = r\"C:\\Users\\quinn\\Downloads\\Comprehend_Elite_Customer_Historical_Package-20230212T215237Z-001\\Comprehend Elite - Customer Historical Package\\elite_historical_2020.csv\"\n",
    "url_2021 = r\"C:\\Users\\quinn\\Downloads\\Comprehend_Elite_Customer_Historical_Package-20230212T215237Z-001\\Comprehend Elite - Customer Historical Package\\elite_historical_2021.csv\"\n",
    "url_2022 = r\"C:\\Users\\quinn\\Downloads\\Comprehend_Elite_Customer_Historical_Package-20230212T215237Z-001\\Comprehend Elite - Customer Historical Package\\elite_historical_2022.csv\"\n",
    "\n",
    "\n",
    "data2019 = pd.read_csv(url_2021, delimiter=';')\n",
    "data2020 = pd.read_csv(url_2022, delimiter=';')\n",
    "data2021 = pd.read_csv(url_2021, delimiter=';')\n",
    "data2022 = pd.read_csv(url_2022, delimiter=';')\n",
    "\n"
   ]
  },
  {
   "cell_type": "code",
   "execution_count": null,
   "id": "4e4168c2",
   "metadata": {},
   "outputs": [],
   "source": []
  },
  {
   "cell_type": "code",
   "execution_count": 26,
   "id": "332d036f",
   "metadata": {},
   "outputs": [
    {
     "name": "stdout",
     "output_type": "stream",
     "text": [
      "  ticker         date    stat1      stat2     stat3      stat4\n",
      "0      A  01-Dec-2021  57.5684  11.583350  1.282037  14.575700\n",
      "1      A  01-Jun-2021  60.5837  50.575500  1.514050   9.914519\n",
      "2      A  04-Mar-2021  57.1740  45.681500  0.529049  18.449790\n",
      "3      A  05-Jan-2021  54.9896  54.658600  0.662386  27.343700\n",
      "4      A  06-Jan-2022  64.5680  34.345567  0.908732  35.181458\n"
     ]
    }
   ],
   "source": [
    "model_data = pd.concat([data2019, data2020, data2021, data2022], ignore_index=True)\n",
    "\n",
    "grouped_df = model_data.groupby(['ticker', 'date'])[['stat1', 'stat2', 'stat3', 'stat4']].mean()\n",
    "\n",
    "# Reset the index if you want 'Ticker' and 'Date' back as regular columns\n",
    "grouped_df = grouped_df.reset_index()\n",
    "\n",
    "print(grouped_df.head())"
   ]
  },
  {
   "cell_type": "code",
   "execution_count": 27,
   "id": "9f351b9c",
   "metadata": {
    "scrolled": true
   },
   "outputs": [
    {
     "name": "stdout",
     "output_type": "stream",
     "text": [
      "[*********************100%%**********************]  5027 of 5027 completed"
     ]
    },
    {
     "name": "stderr",
     "output_type": "stream",
     "text": [
      "\n",
      "804 Failed downloads:\n",
      "['RAAS', 'TTCF', 'TUEM', 'LOGC', 'PEAR', 'PTE', 'REDU', 'TPRE', 'JW.A', 'BRMK', 'ATAX', 'CSVI', 'ALBO', 'WTT', 'NTGRV', 'CIAN', 'TSIAU', 'LIVX', 'EQOS', 'VLDR', 'OMP', 'PDCE', 'VOLT', 'OBSV', 'ECOM', 'RRD', 'FWAA', 'MNK', 'AIKI', 'PBFX', 'CRTD', 'AMRS', 'EXFO', 'LGF.A', 'IRWDV', 'TVACU', 'CLVS', 'PBCT', 'ANTM', 'CIH', 'INS', 'ARYA', 'PPGHU', 'BKEP', 'STSA', 'SUMO', 'SYX', 'SBKK', 'CXP', 'BLCT', 'GIAC', 'XOG', 'TVPC', 'VG', 'ECOL', 'WRE', 'NEW', 'IPOE.UT', 'FB', 'MOG.A', 'NBEV', 'CTEK', 'JNCE', 'SAFM', 'STON', 'JP', 'VCRA', 'PEYE', 'EXTN', 'PPD', 'HTGM', 'NLOK', 'HLBZ', 'FORG', 'IMPX', 'DCRCU', 'VER', 'ACEVU', 'STL', 'DTEA', 'CHWA', 'AVEO', 'GNPK.UT', 'WBEV', 'GTYH', 'NEX', 'QADB', 'APR', 'ALXN', 'NMTR', 'FOREU', 'CVT', 'TRCZF', 'RDBX', 'TCDA', 'ATTO', 'SRGA', 'BTRS', 'SMED', 'ELMS', 'YRCW', 'GBS', 'CONE', 'DNAA', 'ZEN', 'PRSC', 'PKI', 'HBMD', 'MITO', 'QUMU', 'CVET', 'TLND', 'INDT', 'LDL', 'FTSI', 'COUP', 'LSYN', 'DPW', 'FNHC', 'GMTX', 'KRA', 'POLY', 'TMX', 'IAA', 'ANH', 'CNVY', 'IEC', 'BTN', 'TVTY', 'MKGI', 'GLEO.UT', 'CTT', 'TRNFD', 'ZNTE', 'BRK.B', 'STOR', 'MLVF', 'MTCR', 'SPNE', 'LLNW', 'OIG', 'NOBL20', 'HSC', 'CHG', 'MNRL', 'CATB', 'ETM', 'ADMP', 'RMED', 'DCRBU', 'ALR', 'SQZ', 'SFUN', 'CIDM', 'HMTV', 'CYBE', 'RMNIU', 'FOCS', 'MILE', 'CLI', 'FPVD', 'HYRE', 'FST.UT', 'SPPI', 'ENBL', 'TA', 'RBAC.UT', 'MYOV', 'KDNY', 'ROT.UT', 'JCOM', 'SNCA', 'RIDE', 'TUFN', 'PAND', 'GNUS', 'UNVR', 'HOLUU', 'AINV', 'PROG', 'ICBK', 'NTUS', 'AAWW', 'YELL', 'CRD.B', 'CYRN', 'HRTH', 'MDLA', 'MDCA', 'AZRX', 'NYLD.A', 'MMAC', 'NGACU', 'RBNC', 'ETTX', 'BRG', 'DTM.WI', 'NRX.XX1', 'WLTW', 'DPDW', 'MANT', 'ATCO', 'SBG.UT', 'CRXT', 'SOLY', 'FISV', 'STPK', 'MODLY', 'LSI', 'HOME', 'KVSB', 'KNL', 'ADS', 'GWGH', 'ACIA', 'PAE', 'USAT', 'STAY', 'FLDM', 'RFP', 'MICT', 'STAR', 'QUOT', 'TEN', 'MBNAA', 'KDMN', 'MGMB', 'WEJO', 'FLIR', 'GXGX', 'NLSN', 'CBTX', 'HMHC', 'VEC', 'ADMS', 'ZIOP', 'AIMC', 'IVC', 'HHR', 'ONCS', 'MSLP', 'OCDX', 'IS', 'FRG', 'DFPHU', 'APXTU', 'UEPS', 'LAWS', 'FSTX', 'AVLR', 'HNGR', 'ARNC', 'BLI', 'CDR', 'ISEE', 'SYKE', 'QTT', 'YAC.UT', 'GRA', 'FBC', 'BOWXU', 'GNBT', 'GMNNF', 'FRTT', 'TCRR', 'TEUM', 'ACC', 'PTRA', 'GRP.UT', 'AGFS', 'SHSP', 'OBNK', 'STXB', 'ALTM', 'TDCAF', 'APPH', 'AZYO', 'PFHC', 'GBL', 'RABO3850847', 'VIAC', 'SESN', 'DS', 'DBDRU', 'BOXD', 'USX', 'KNBE', 'ATRS', 'LPI', 'LMRK', 'MOTNU', 'VRAY', 'FLXN', 'FRX.UT', 'VVNT', 'NFH', 'QTS', 'FRC', 'HHC', 'CTIC', 'AMCI', 'QTEK', 'VIVO', 'SBTX', 'XL', 'ELY', 'ATH', 'ZGNX', 'NEOS', 'FSRVU', 'RMO', 'NUVA', 'WETF', 'COG', 'FMTX', 'EDNC', 'HMI', 'STRN', 'AUY', 'XEC', 'WEBR', 'GRAY', 'ZSAN', 'NRZ', 'CNR', 'BMTC', 'AERI', 'TLDAY', 'PLT', 'VORB', 'STRY', 'FLMN', 'ZVO', 'CFX', 'OPA.UT', 'NMMC', 'CPTA', 'SNR', 'PSTH.UT', 'GDP', 'CDK', 'RICE.UT', 'RPAI', 'ALJJ', 'XM', 'TSC', 'ACBI', 'RLGY', 'AFI', 'CRD.A', 'NK', 'DRNA', 'GWB', 'ARD', 'BKI', 'ALTA', 'ZY', 'TKKSU', 'SIVB', 'IEA', 'REPH', 'WLMS', 'BXS', 'ACIC.UT', 'CPLG', 'ADGI', 'LYLT', 'USWS', 'NBLX', 'AZRE', 'ROCC', 'SREV', 'TPTX', 'NSTB.UT', 'CLII.UT', 'PHEC', 'DISCA', 'ATCX', 'SVACU', 'MGLN', 'BSTG', 'SOAC.UT', 'QNGY', 'BVXV', 'BBI', 'VLTA', 'GMLP', 'NUAN', 'ADOM', 'LHDX', 'SV', 'GHIVU', 'PFHD', 'SNII', 'MLHR', 'RYB', 'PFPT', 'HEI.A', 'FAII.UT', 'FPRX', 'CCXI', 'CMPI', 'HMLP', 'PFDRU', 'PSACU', 'AJAX.UT', 'WYND', 'MN', 'REV', 'NILE', 'OTIC', 'TWND.UT', 'UFS', 'GSAH.UT', 'AUTO', 'BDR', 'SC', 'HBP', 'SGMS', 'NTWN', 'IDRA', 'RESLF', 'LNDC', 'ABTX', 'DNAC', 'SWCH', 'ZIXI', 'NHICU', 'DSPG', 'FLY', 'BNFT', 'CERC', 'SI', 'WTR', 'LEAF', 'COMP.EQ', 'INT', 'IO', 'PSXP', 'AERC', 'ANPC', 'SCVX.UT', 'HTBX', 'WTRH', 'DCP', 'AESE', 'FVE', 'LFG', 'MACQU', 'STMP', 'GWDAF', 'PZN', 'VMEOV', 'PRDS', 'FEYE', 'MSGN', 'MGI', 'BBBY', 'AQUA', 'SJI', 'AHC', 'OAS', 'ALNA', 'PQG', 'HLG', 'OYST', 'PSTI', 'DRE', 'MWK', 'ATNX', 'ARNA', 'GPX', 'XLRN', 'BBLN', 'EYES', 'NOVN', 'AFIN', 'PRVB', 'FTOCU', 'ZNGA', 'GTS', 'IIVI', 'CNST', 'KSHB', 'CFACU', 'FHS', 'SCHN', 'KBAL', 'ELVT', 'SYNL', 'TULLY', 'CCIV', 'FOE', 'TRXC', 'CORZ', 'CFMS', 'EMPW.UT', 'VRS', 'NXU.UT', 'XELAU', 'GLOG', 'ANGN', 'PING', 'BLL', 'HSKA', 'AVYA', 'POSH', 'ECHO', 'ACND.UT', 'ISO', 'CRY', 'SAIL', 'PRTY', 'MKTY', 'CLR', 'RUTH', 'PAIC', 'CLXT', 'LMACU', 'HTZZ', 'DSEY', 'BSN.UT', 'SURF', 'RADA', 'MTOR', 'ENJY', 'BTX', 'KMPH', 'CINC', 'CCMP', 'CLNY', 'UMPQ', 'FMBI', 'DICE', 'BGRY', 'EPAY', 'WLL', 'TREB.UT', 'MIME', 'CDEV', 'LCI', 'TREC', 'ALUS.UT', 'USAK', 'CLNC', 'LHCG', 'OSH', 'KAL', 'CHRA', 'MCFE', 'JMP', 'CRTX', 'TWTR', 'VNE', 'CREE', 'WFTLF', 'TPCO', 'PAYA', 'MCF', 'AUD', 'ETH', 'OIIM', 'IDW', 'MBAC.UT', 'TESS', 'CVA', 'CTB', 'CSPR', 'XAN', 'CYXT', 'SGTX', 'CLBS', 'CSLT', 'PVAC', 'FSBTF', 'HZN', 'CLSN', 'RE', 'AMOT', 'SVOKU', 'PACE.UT', 'SATSV', 'GOED', 'SRNE', 'UIHC', 'RTPZ.UT', 'GNCA', 'GGPIU', 'ISBC', 'MSON', 'GNMK', 'ORCC', 'TRTC', 'IMRA', 'Y', 'AJRD', 'GCP', 'TLGT', 'VEI', 'LOTZ', 'TBLTU', 'NPTN', 'MDP', 'TBK', 'VTGGF', 'DKMR', 'BCEI', 'SUNS', 'DPWRF', 'QTNT', 'HCHC', 'MTBC', 'AFHIQ', 'RESN', 'MCG', 'BRKS', 'MGP', 'RCII', 'YMTX', 'TIG', 'TYME', 'USER', 'OEG', 'MNDT', 'SPKE', 'IMBI', 'MLND', 'SFTW.UT', 'CSU', 'SINGD', 'APEN', 'CPST', 'CSOD', 'MNTV', 'TGP', 'ENOB', 'SRLP', 'SGFY', 'XSPA', 'DEH.UT', 'CNCE', 'ESXB', 'EPZM', 'AYLA', 'CTK', 'VLON', 'CSII', 'SBBP', 'FSRD', 'MRLN', 'CTXS', 'CHMA', 'AMRB', 'LATNU', 'GBT', 'MMMB', 'GLOP', 'WBT', 'GSX', 'BASI', 'PLXP', 'MBII', 'CLDR', 'SMDM', 'WRI', 'RXDX', 'MSP', 'JWS', 'CINR', 'GRBX', 'CURR', 'SHLX', 'FBHS', 'SALT', 'OPNT', 'PSB', 'GMIIU', 'GNOG', 'HRC', 'IMGO', 'RNWK', 'SGLB', 'GSKY', 'MIC', 'UN', 'DVCR', 'LB', 'KSU', 'BOAS', 'RTPYU', 'CRSA', 'ORBC', 'CHFS', 'NP', 'ROLL', 'DCT', 'IPLB', 'PNR.WI', 'QEP', 'AGTC', 'BCOR', 'TLMD', 'BPMP', 'SCTY', 'CAI', 'PEI', 'FTCVU', 'ONEM', 'SWM', 'BHTG', 'GLS', 'KIN', 'ISR', 'HTA', 'CBLI', 'NCBS', 'VNTR', 'CYTR', 'HJLI', 'SVMK', 'CVLB', 'CORE', 'IACA.UT', 'GFN', 'BGCP', 'SMFR', 'NNA', 'HMPT', 'MSPR', 'CHNG', 'DNAY', 'SRRA', 'DISCK', 'HIL', 'SWIR', 'DSSI', 'STFC', 'NBRV', 'PLAN', 'EMBK', 'IIN', 'CO', 'ATC', 'RAVN', 'USCR', 'CERN', 'RXN', 'VCVCU', 'PHAS', 'ENDP', 'ABC', 'CECE', 'INFO', 'GBOX', 'FCCY', 'ITHX', 'CDAK', 'IMAC', 'XENT', 'QELLU', 'OSMT', 'LMNX', 'EVOP', 'NWHM', 'WSTG', 'AKUS', 'NH', 'COWN', 'FUSE.UT', 'IMH', 'HFC', 'ONE', 'RKLY', 'FTRCQ', 'APTS', 'CMD', 'TVA.EC', 'LOV', 'SYN', 'FFHL', 'CEMI', 'SUMR', 'VECT', 'TRMT', 'CMO']: Exception('%ticker%: No timezone found, symbol may be delisted')\n",
      "['MNR', 'MSGE', 'CR', 'BQ', 'ICCT', 'INOV', 'DBD', 'AMAM', 'MAGS', 'LTRY', 'FLOW']: Exception(\"%ticker%: Data doesn't exist for startDate = 1546318800, endDate = 1672462800\")\n",
      "['ADNWW']: Exception(\"%ticker%: Period 'max' is invalid, must be one of ['1d', '5d']\")\n",
      "['BF.B', 'BAAPF', 'EXPRF', 'QVCA', 'LGF.B', 'UVN', 'XPRSA']: Exception('%ticker%: No price data found, symbol may be delisted (1d 2019-01-01 -> 2022-12-31)')\n"
     ]
    },
    {
     "name": "stdout",
     "output_type": "stream",
     "text": [
      "\n",
      "                     Adj Close                                        \\\n",
      "                             A         AA  AACG       AADI      AAIC   \n",
      "Date                                                                   \n",
      "2019-01-02 00:00:00  64.262276  26.182819  0.94  29.850000  6.234708   \n",
      "2019-01-03 00:00:00  61.894875  26.182819  0.94  31.049999  6.234708   \n",
      "2019-01-04 00:00:00  64.037277  28.278244  0.93  31.875000  6.490578   \n",
      "2019-01-07 00:00:00  65.397072  28.358068  0.94  31.950001  6.754978   \n",
      "2019-01-08 00:00:00  66.355766  28.188438  0.99  36.000000  6.823210   \n",
      "\n",
      "                                                                  ...  \\\n",
      "                           AAL AAN   AAOI       AAON         AAP  ...   \n",
      "Date                                                              ...   \n",
      "2019-01-02 00:00:00  31.963160 NaN  15.88  22.828310  153.790192  ...   \n",
      "2019-01-03 00:00:00  29.581665 NaN  15.06  21.982092  158.591278  ...   \n",
      "2019-01-04 00:00:00  31.530161 NaN  15.54  23.179817  154.656891  ...   \n",
      "2019-01-07 00:00:00  32.425678 NaN  15.68  23.531322  156.925964  ...   \n",
      "2019-01-08 00:00:00  31.904110 NaN  16.01  23.648491  155.835281  ...   \n",
      "\n",
      "                      Volume                                                 \\\n",
      "                         ZTS    ZUMZ      ZUO ZVIA ZVO      ZWS  ZY    ZYME   \n",
      "Date                                                                          \n",
      "2019-01-02 00:00:00  2665600  439500  1039500  NaN NaN   636400 NaN  208800   \n",
      "2019-01-03 00:00:00  2390900  392500   766700  NaN NaN   552800 NaN  102600   \n",
      "2019-01-04 00:00:00  3383500  333100  1355300  NaN NaN  1097300 NaN  127100   \n",
      "2019-01-07 00:00:00  2360800  487800  1602600  NaN NaN  1025900 NaN  191600   \n",
      "2019-01-08 00:00:00  2250300  441800   889700  NaN NaN  1178500 NaN  156600   \n",
      "\n",
      "                                    \n",
      "                       ZYNE   ZYXI  \n",
      "Date                                \n",
      "2019-01-02 00:00:00  934760  12430  \n",
      "2019-01-03 00:00:00  400127   7370  \n",
      "2019-01-04 00:00:00  439123   1210  \n",
      "2019-01-07 00:00:00  453830   7810  \n",
      "2019-01-08 00:00:00  327889   3080  \n",
      "\n",
      "[5 rows x 30162 columns]\n"
     ]
    }
   ],
   "source": [
    "\n",
    "\n",
    "import yfinance as yf\n",
    "import pandas as pd\n",
    "\n",
    "\n",
    "ticker_list = model_data['ticker'].unique()\n",
    "\n",
    "string_list = [str(item) for item in ticker_list]\n",
    "\n",
    "# Fetch the historical daily data for the symbols\n",
    "data = yf.download(string_list, start='2019-01-01', end='2022-12-31')\n",
    "\n",
    "\n",
    "# Print the retrieved data\n",
    "print(data.head())\n",
    "\n"
   ]
  },
  {
   "cell_type": "code",
   "execution_count": 28,
   "id": "2f064234",
   "metadata": {},
   "outputs": [
    {
     "name": "stdout",
     "output_type": "stream",
     "text": [
      "           Date   Adj Close                                                   \\\n",
      "                          A         AA  AACG       AADI      AAIC        AAL   \n",
      "0    2019-01-02   64.262276  26.182819  0.94  29.850000  6.234708  31.963160   \n",
      "1    2019-01-03   61.894875  26.182819  0.94  31.049999  6.234708  29.581665   \n",
      "2    2019-01-04   64.037277  28.278244  0.93  31.875000  6.490578  31.530161   \n",
      "3    2019-01-07   65.397072  28.358068  0.94  31.950001  6.754978  32.425678   \n",
      "4    2019-01-08   66.355766  28.188438  0.99  36.000000  6.823210  31.904110   \n",
      "...         ...         ...        ...   ...        ...       ...        ...   \n",
      "1003 2022-12-23  149.229996  44.200001  1.44  12.520000  2.870000  12.710000   \n",
      "1004 2022-12-27  149.550003  44.860001  1.36  11.990000  2.860000  12.530000   \n",
      "1005 2022-12-28  148.089996  43.799999  1.31  12.030000  2.830000  12.320000   \n",
      "1006 2022-12-29  151.089996  46.560001  1.35  12.580000  2.920000  12.700000   \n",
      "1007 2022-12-30  149.649994  45.470001  1.27  12.830000  2.930000  12.720000   \n",
      "\n",
      "                                   ...   Volume                             \\\n",
      "            AAN   AAOI       AAON  ...      ZTS    ZUMZ      ZUO      ZVIA   \n",
      "0           NaN  15.88  22.828310  ...  2665600  439500  1039500       NaN   \n",
      "1           NaN  15.06  21.982092  ...  2390900  392500   766700       NaN   \n",
      "2           NaN  15.54  23.179817  ...  3383500  333100  1355300       NaN   \n",
      "3           NaN  15.68  23.531322  ...  2360800  487800  1602600       NaN   \n",
      "4           NaN  16.01  23.648491  ...  2250300  441800   889700       NaN   \n",
      "...         ...    ...        ...  ...      ...     ...      ...       ...   \n",
      "1003  10.998747   1.95  50.573334  ...  1017900  215700  1097300   94300.0   \n",
      "1004  10.979401   1.83  51.266666  ...   957900  286900   951700  203800.0   \n",
      "1005  10.950379   1.74  50.400002  ...  1443900  321400  1056000   76300.0   \n",
      "1006  11.414707   1.90  51.233334  ...  1298900  259400  1129200  199400.0   \n",
      "1007  11.559808   1.89  50.213333  ...  1249500  240500   869900   94600.0   \n",
      "\n",
      "                                                \n",
      "     ZVO      ZWS  ZY     ZYME    ZYNE    ZYXI  \n",
      "0    NaN   636400 NaN   208800  934760   12430  \n",
      "1    NaN   552800 NaN   102600  400127    7370  \n",
      "2    NaN  1097300 NaN   127100  439123    1210  \n",
      "3    NaN  1025900 NaN   191600  453830    7810  \n",
      "4    NaN  1178500 NaN   156600  327889    3080  \n",
      "...   ..      ...  ..      ...     ...     ...  \n",
      "1003 NaN   533200 NaN  2835600  238141  180400  \n",
      "1004 NaN   549100 NaN   981100  230926  143700  \n",
      "1005 NaN   610200 NaN   474300  148007  137700  \n",
      "1006 NaN   598300 NaN   457800  261901  159700  \n",
      "1007 NaN   890300 NaN   362500  470734  235600  \n",
      "\n",
      "[1008 rows x 30163 columns]\n"
     ]
    }
   ],
   "source": [
    "print(data.reset_index())"
   ]
  },
  {
   "cell_type": "code",
   "execution_count": 29,
   "id": "be71dfef",
   "metadata": {},
   "outputs": [
    {
     "name": "stdout",
     "output_type": "stream",
     "text": [
      "                   Adj Close      Close    High        Low    Open     Volume\n",
      "Date       Ticker                                                            \n",
      "2019-01-02 A       64.262276  65.690002  66.570  65.300003  66.500  2113300.0\n",
      "           AA      26.182819  26.240000  26.847  25.480000  25.955  3067000.0\n",
      "           AACG     0.940000   0.940000   1.000   0.900000   0.910    30600.0\n",
      "           AADI    29.850000  29.850000  30.600  26.400000  26.400     5640.0\n",
      "           AAIC     6.234708   7.310000   7.390   6.920000   7.140   496600.0\n"
     ]
    }
   ],
   "source": [
    "\n",
    "df = data.stack(level=1)\n",
    "df = df.rename_axis(['Date', 'Ticker'], axis=0)\n",
    "print(df.head())"
   ]
  },
  {
   "cell_type": "code",
   "execution_count": 30,
   "id": "dd9175a0",
   "metadata": {},
   "outputs": [
    {
     "name": "stdout",
     "output_type": "stream",
     "text": [
      "        Date Ticker  Adj Close      Close    High        Low    Open  \\\n",
      "0 2019-01-02      A  64.262276  65.690002  66.570  65.300003  66.500   \n",
      "1 2019-01-02     AA  26.182819  26.240000  26.847  25.480000  25.955   \n",
      "2 2019-01-02   AACG   0.940000   0.940000   1.000   0.900000   0.910   \n",
      "3 2019-01-02   AADI  29.850000  29.850000  30.600  26.400000  26.400   \n",
      "4 2019-01-02   AAIC   6.234708   7.310000   7.390   6.920000   7.140   \n",
      "\n",
      "      Volume  \n",
      "0  2113300.0  \n",
      "1  3067000.0  \n",
      "2    30600.0  \n",
      "3     5640.0  \n",
      "4   496600.0  \n"
     ]
    }
   ],
   "source": [
    "df = df.reset_index().dropna()\n",
    "print(df.head())"
   ]
  },
  {
   "cell_type": "code",
   "execution_count": 31,
   "id": "76b2d5de",
   "metadata": {},
   "outputs": [
    {
     "name": "stderr",
     "output_type": "stream",
     "text": [
      "C:\\Users\\quinn\\AppData\\Local\\Temp\\ipykernel_35316\\2584132271.py:3: SettingWithCopyWarning: \n",
      "A value is trying to be set on a copy of a slice from a DataFrame.\n",
      "Try using .loc[row_indexer,col_indexer] = value instead\n",
      "\n",
      "See the caveats in the documentation: https://pandas.pydata.org/pandas-docs/stable/user_guide/indexing.html#returning-a-view-versus-a-copy\n",
      "  reversed_df['18_month_fw_volatility'] = reversed_df.groupby('Ticker')['return'].rolling(window=378).std().reset_index(level=0, drop=True)\n"
     ]
    }
   ],
   "source": [
    "df['return'] = df.groupby('Ticker')['Adj Close'].pct_change()\n",
    "reversed_df = df.iloc[::-1]\n",
    "reversed_df['18_month_fw_volatility'] = reversed_df.groupby('Ticker')['return'].rolling(window=378).std().reset_index(level=0, drop=True)\n",
    "\n",
    "# Now reverse the DataFrame back to original order\n",
    "df['18_month_fw_volatility'] = reversed_df['18_month_fw_volatility'].iloc[::-1]\n",
    "\n",
    "# If you want to match the original DataFrame's index\n",
    "df['18_month_fw_volatility'] = df['18_month_fw_volatility'].reset_index(level=0, drop=True)"
   ]
  },
  {
   "cell_type": "code",
   "execution_count": 32,
   "id": "a8b6d1fe",
   "metadata": {},
   "outputs": [],
   "source": [
    "df['1_month_hist_volatility'] = df.groupby('Ticker')['return'].rolling(window=21).std().reset_index(level=0, drop=True)\n",
    "df['3_month_hist_volatility'] = df.groupby('Ticker')['return'].rolling(window=63).std().reset_index(level=0, drop=True)\n",
    "df['6_month_hist_volatility'] = df.groupby('Ticker')['return'].rolling(window=126).std().reset_index(level=0, drop=True)\n",
    "df['12_month_hist_volatility'] = df.groupby('Ticker')['return'].rolling(window=252).std().reset_index(level=0, drop=True)\n",
    "df['18_month_hist_volatility'] = df.groupby('Ticker')['return'].rolling(window=378).std().reset_index(level=0, drop=True)"
   ]
  },
  {
   "cell_type": "code",
   "execution_count": 33,
   "id": "44ca6cf5",
   "metadata": {},
   "outputs": [],
   "source": [
    "grouped_df['date'] = pd.to_datetime(grouped_df['date'])"
   ]
  },
  {
   "cell_type": "code",
   "execution_count": 34,
   "id": "74a6580b",
   "metadata": {},
   "outputs": [
    {
     "data": {
      "text/html": [
       "<div>\n",
       "<style scoped>\n",
       "    .dataframe tbody tr th:only-of-type {\n",
       "        vertical-align: middle;\n",
       "    }\n",
       "\n",
       "    .dataframe tbody tr th {\n",
       "        vertical-align: top;\n",
       "    }\n",
       "\n",
       "    .dataframe thead th {\n",
       "        text-align: right;\n",
       "    }\n",
       "</style>\n",
       "<table border=\"1\" class=\"dataframe\">\n",
       "  <thead>\n",
       "    <tr style=\"text-align: right;\">\n",
       "      <th></th>\n",
       "      <th>ticker</th>\n",
       "      <th>date</th>\n",
       "      <th>stat1</th>\n",
       "      <th>stat2</th>\n",
       "      <th>stat3</th>\n",
       "      <th>stat4</th>\n",
       "    </tr>\n",
       "  </thead>\n",
       "  <tbody>\n",
       "    <tr>\n",
       "      <th>0</th>\n",
       "      <td>A</td>\n",
       "      <td>2021-12-01</td>\n",
       "      <td>57.5684</td>\n",
       "      <td>11.583350</td>\n",
       "      <td>1.282037</td>\n",
       "      <td>14.575700</td>\n",
       "    </tr>\n",
       "    <tr>\n",
       "      <th>1</th>\n",
       "      <td>A</td>\n",
       "      <td>2021-06-01</td>\n",
       "      <td>60.5837</td>\n",
       "      <td>50.575500</td>\n",
       "      <td>1.514050</td>\n",
       "      <td>9.914519</td>\n",
       "    </tr>\n",
       "    <tr>\n",
       "      <th>2</th>\n",
       "      <td>A</td>\n",
       "      <td>2021-03-04</td>\n",
       "      <td>57.1740</td>\n",
       "      <td>45.681500</td>\n",
       "      <td>0.529049</td>\n",
       "      <td>18.449790</td>\n",
       "    </tr>\n",
       "    <tr>\n",
       "      <th>3</th>\n",
       "      <td>A</td>\n",
       "      <td>2021-01-05</td>\n",
       "      <td>54.9896</td>\n",
       "      <td>54.658600</td>\n",
       "      <td>0.662386</td>\n",
       "      <td>27.343700</td>\n",
       "    </tr>\n",
       "    <tr>\n",
       "      <th>4</th>\n",
       "      <td>A</td>\n",
       "      <td>2022-01-06</td>\n",
       "      <td>64.5680</td>\n",
       "      <td>34.345567</td>\n",
       "      <td>0.908732</td>\n",
       "      <td>35.181458</td>\n",
       "    </tr>\n",
       "  </tbody>\n",
       "</table>\n",
       "</div>"
      ],
      "text/plain": [
       "  ticker       date    stat1      stat2     stat3      stat4\n",
       "0      A 2021-12-01  57.5684  11.583350  1.282037  14.575700\n",
       "1      A 2021-06-01  60.5837  50.575500  1.514050   9.914519\n",
       "2      A 2021-03-04  57.1740  45.681500  0.529049  18.449790\n",
       "3      A 2021-01-05  54.9896  54.658600  0.662386  27.343700\n",
       "4      A 2022-01-06  64.5680  34.345567  0.908732  35.181458"
      ]
     },
     "execution_count": 34,
     "metadata": {},
     "output_type": "execute_result"
    }
   ],
   "source": [
    "grouped_df.head()"
   ]
  },
  {
   "cell_type": "code",
   "execution_count": 38,
   "id": "b23a1287",
   "metadata": {},
   "outputs": [
    {
     "data": {
      "text/html": [
       "<div>\n",
       "<style scoped>\n",
       "    .dataframe tbody tr th:only-of-type {\n",
       "        vertical-align: middle;\n",
       "    }\n",
       "\n",
       "    .dataframe tbody tr th {\n",
       "        vertical-align: top;\n",
       "    }\n",
       "\n",
       "    .dataframe thead th {\n",
       "        text-align: right;\n",
       "    }\n",
       "</style>\n",
       "<table border=\"1\" class=\"dataframe\">\n",
       "  <thead>\n",
       "    <tr style=\"text-align: right;\">\n",
       "      <th></th>\n",
       "      <th>Date</th>\n",
       "      <th>Ticker</th>\n",
       "      <th>Adj Close</th>\n",
       "      <th>Close</th>\n",
       "      <th>High</th>\n",
       "      <th>Low</th>\n",
       "      <th>Open</th>\n",
       "      <th>Volume</th>\n",
       "      <th>return</th>\n",
       "      <th>18_month_fw_volatility</th>\n",
       "      <th>1_month_hist_volatility</th>\n",
       "      <th>3_month_hist_volatility</th>\n",
       "      <th>6_month_hist_volatility</th>\n",
       "      <th>12_month_hist_volatility</th>\n",
       "      <th>18_month_hist_volatility</th>\n",
       "    </tr>\n",
       "  </thead>\n",
       "  <tbody>\n",
       "    <tr>\n",
       "      <th>1267418</th>\n",
       "      <td>2020-07-02</td>\n",
       "      <td>A</td>\n",
       "      <td>87.899979</td>\n",
       "      <td>88.68</td>\n",
       "      <td>89.489998</td>\n",
       "      <td>88.550003</td>\n",
       "      <td>88.830002</td>\n",
       "      <td>1507700.0</td>\n",
       "      <td>0.006469</td>\n",
       "      <td>0.013241</td>\n",
       "      <td>0.016116</td>\n",
       "      <td>0.021006</td>\n",
       "      <td>0.029650</td>\n",
       "      <td>0.023142</td>\n",
       "      <td>0.021162</td>\n",
       "    </tr>\n",
       "    <tr>\n",
       "      <th>1267419</th>\n",
       "      <td>2020-07-02</td>\n",
       "      <td>AA</td>\n",
       "      <td>10.946095</td>\n",
       "      <td>10.97</td>\n",
       "      <td>11.680000</td>\n",
       "      <td>10.860000</td>\n",
       "      <td>11.260000</td>\n",
       "      <td>7515400.0</td>\n",
       "      <td>0.001827</td>\n",
       "      <td>0.038109</td>\n",
       "      <td>0.058448</td>\n",
       "      <td>0.056580</td>\n",
       "      <td>0.063464</td>\n",
       "      <td>0.048598</td>\n",
       "      <td>0.041779</td>\n",
       "    </tr>\n",
       "    <tr>\n",
       "      <th>1267420</th>\n",
       "      <td>2020-07-02</td>\n",
       "      <td>AACG</td>\n",
       "      <td>1.310000</td>\n",
       "      <td>1.31</td>\n",
       "      <td>1.390000</td>\n",
       "      <td>1.300000</td>\n",
       "      <td>1.300000</td>\n",
       "      <td>46800.0</td>\n",
       "      <td>0.000000</td>\n",
       "      <td>0.493429</td>\n",
       "      <td>0.079122</td>\n",
       "      <td>0.062492</td>\n",
       "      <td>0.063436</td>\n",
       "      <td>0.052479</td>\n",
       "      <td>0.090027</td>\n",
       "    </tr>\n",
       "    <tr>\n",
       "      <th>1267421</th>\n",
       "      <td>2020-07-02</td>\n",
       "      <td>AADI</td>\n",
       "      <td>18.900000</td>\n",
       "      <td>18.90</td>\n",
       "      <td>19.365000</td>\n",
       "      <td>18.600000</td>\n",
       "      <td>19.049999</td>\n",
       "      <td>45107.0</td>\n",
       "      <td>-0.015625</td>\n",
       "      <td>0.068105</td>\n",
       "      <td>0.037700</td>\n",
       "      <td>0.081627</td>\n",
       "      <td>0.064013</td>\n",
       "      <td>0.052399</td>\n",
       "      <td>0.062917</td>\n",
       "    </tr>\n",
       "    <tr>\n",
       "      <th>1267422</th>\n",
       "      <td>2020-07-02</td>\n",
       "      <td>AAIC</td>\n",
       "      <td>2.950000</td>\n",
       "      <td>2.95</td>\n",
       "      <td>2.990000</td>\n",
       "      <td>2.930000</td>\n",
       "      <td>2.990000</td>\n",
       "      <td>391500.0</td>\n",
       "      <td>0.013746</td>\n",
       "      <td>0.019316</td>\n",
       "      <td>0.061867</td>\n",
       "      <td>0.066894</td>\n",
       "      <td>0.090804</td>\n",
       "      <td>0.064981</td>\n",
       "      <td>0.053702</td>\n",
       "    </tr>\n",
       "  </tbody>\n",
       "</table>\n",
       "</div>"
      ],
      "text/plain": [
       "              Date Ticker  Adj Close  Close       High        Low       Open  \\\n",
       "1267418 2020-07-02      A  87.899979  88.68  89.489998  88.550003  88.830002   \n",
       "1267419 2020-07-02     AA  10.946095  10.97  11.680000  10.860000  11.260000   \n",
       "1267420 2020-07-02   AACG   1.310000   1.31   1.390000   1.300000   1.300000   \n",
       "1267421 2020-07-02   AADI  18.900000  18.90  19.365000  18.600000  19.049999   \n",
       "1267422 2020-07-02   AAIC   2.950000   2.95   2.990000   2.930000   2.990000   \n",
       "\n",
       "            Volume    return  18_month_fw_volatility  1_month_hist_volatility  \\\n",
       "1267418  1507700.0  0.006469                0.013241                 0.016116   \n",
       "1267419  7515400.0  0.001827                0.038109                 0.058448   \n",
       "1267420    46800.0  0.000000                0.493429                 0.079122   \n",
       "1267421    45107.0 -0.015625                0.068105                 0.037700   \n",
       "1267422   391500.0  0.013746                0.019316                 0.061867   \n",
       "\n",
       "         3_month_hist_volatility  6_month_hist_volatility  \\\n",
       "1267418                 0.021006                 0.029650   \n",
       "1267419                 0.056580                 0.063464   \n",
       "1267420                 0.062492                 0.063436   \n",
       "1267421                 0.081627                 0.064013   \n",
       "1267422                 0.066894                 0.090804   \n",
       "\n",
       "         12_month_hist_volatility  18_month_hist_volatility  \n",
       "1267418                  0.023142                  0.021162  \n",
       "1267419                  0.048598                  0.041779  \n",
       "1267420                  0.052479                  0.090027  \n",
       "1267421                  0.052399                  0.062917  \n",
       "1267422                  0.064981                  0.053702  "
      ]
     },
     "execution_count": 38,
     "metadata": {},
     "output_type": "execute_result"
    }
   ],
   "source": [
    "df.dropna().head()"
   ]
  },
  {
   "cell_type": "code",
   "execution_count": 36,
   "id": "bb0d5e0a",
   "metadata": {},
   "outputs": [
    {
     "name": "stdout",
     "output_type": "stream",
     "text": [
      "   ticker       date     stat1     stat2     stat3      stat4       Date  \\\n",
      "1       A 2021-06-01  60.58370  50.57550  1.514050   9.914519 2021-06-01   \n",
      "2       A 2021-03-04  57.17400  45.68150  0.529049  18.449790 2021-03-04   \n",
      "3       A 2021-01-05  54.98960  54.65860  0.662386  27.343700 2021-01-05   \n",
      "8       A 2021-01-12  49.82905  37.43275  0.396149  -4.527450 2021-01-12   \n",
      "11      A 2021-02-16  53.95815  66.11700  0.364994  25.061400 2021-02-16   \n",
      "\n",
      "   Ticker   Adj Close       Close  ...         Low        Open     Volume  \\\n",
      "1       A  136.669495  137.199997  ...  135.570007  139.169998  2015800.0   \n",
      "2       A  114.371338  114.989998  ...  113.339996  118.690002  2725000.0   \n",
      "3       A  118.966484  119.610001  ...  118.070000  118.480003  2344000.0   \n",
      "8       A  126.286888  126.970001  ...  126.199997  128.330002  1826400.0   \n",
      "11      A  127.261604  127.949997  ...  127.849998  129.309998  2132500.0   \n",
      "\n",
      "      return  18_month_fw_volatility  1_month_hist_volatility  \\\n",
      "1  -0.006733                0.019361                 0.012949   \n",
      "2  -0.036127                0.017783                 0.017484   \n",
      "3   0.008176                0.016836                 0.009838   \n",
      "8  -0.009208                0.016812                 0.010741   \n",
      "11 -0.000234                0.017405                 0.014293   \n",
      "\n",
      "    3_month_hist_volatility  6_month_hist_volatility  \\\n",
      "1                  0.013568                 0.013562   \n",
      "2                  0.014731                 0.015480   \n",
      "3                  0.013930                 0.013742   \n",
      "8                  0.014220                 0.014063   \n",
      "11                 0.013572                 0.013986   \n",
      "\n",
      "    12_month_hist_volatility  18_month_hist_volatility  \n",
      "1                   0.013994                  0.020293  \n",
      "2                   0.022695                  0.020350  \n",
      "3                   0.023054                  0.020429  \n",
      "8                   0.023158                  0.020465  \n",
      "11                  0.023182                  0.020107  \n",
      "\n",
      "[5 rows x 21 columns]\n"
     ]
    }
   ],
   "source": [
    "test_data = pd.merge(grouped_df, df, left_on=['ticker', 'date'], right_on=['Ticker', 'Date'])\n",
    "test_data.dropna(inplace=True)\n",
    "print(test_data.head())"
   ]
  },
  {
   "cell_type": "code",
   "execution_count": 39,
   "id": "0ed5f869",
   "metadata": {},
   "outputs": [],
   "source": [
    "from sklearn.feature_selection import SelectKBest, f_classif, f_regression  \n",
    "from sklearn.model_selection import train_test_split\n",
    "from sklearn.preprocessing import StandardScaler \n",
    "\n",
    "# Select K Best Analysis\n",
    "\n",
    "X = test_data.drop(columns=['18_month_fw_volatility','Ticker', 'Date', 'ticker', 'date'])  # Drop the target and non-feature columns\n",
    "y = test_data['18_month_fw_volatility']  # This is your target variable\n",
    "\n",
    "scaler = StandardScaler()\n",
    "X_scaled = scaler.fit_transform(X) \n",
    "\n",
    "X_scaled_df = pd.DataFrame(X_scaled, columns=X.columns)\n",
    "\n",
    "# Define the number of top features you want to select\n",
    "k = 10  # For example, the top 10 features\n",
    "\n",
    "# Create the SelectKBest with a suitable score function\n",
    "selector = SelectKBest(score_func=f_regression, k=k)  # Use f_regression for regression tasks\n",
    "\n",
    "# Fit the selector to your data\n",
    "selector.fit(X_scaled_df, y)\n",
    "\n",
    "# Transform the data to the selected feature space\n",
    "X_selected = selector.transform(X)"
   ]
  },
  {
   "cell_type": "code",
   "execution_count": 41,
   "id": "9c7035dd",
   "metadata": {},
   "outputs": [
    {
     "name": "stdout",
     "output_type": "stream",
     "text": [
      "      stat1     stat2     stat3     stat4  Adj Close     Close      High  \\\n",
      "0  1.215372  0.010685  2.824768  0.004543   0.051323  0.050701  0.047347   \n",
      "1  0.698821  0.010069  0.024288  0.005540   0.022901  0.022394  0.021870   \n",
      "2  0.367896  0.011199  0.403380  0.006579   0.028758  0.028282  0.023637   \n",
      "3 -0.413899  0.009031 -0.353564  0.002856   0.038089  0.037663  0.033204   \n",
      "4  0.211637  0.012641 -0.442142  0.006312   0.039331  0.038912  0.036393   \n",
      "\n",
      "        Low      Open    Volume    return  1_month_hist_volatility  \\\n",
      "0  0.054683  0.053705 -0.127336 -0.113729                -0.613632   \n",
      "1  0.024827  0.027204 -0.060567 -0.558037                -0.460151   \n",
      "2  0.031179  0.026932 -0.096437  0.111622                -0.718923   \n",
      "3  0.042099  0.039678 -0.145167 -0.151141                -0.688371   \n",
      "4  0.044315  0.040946 -0.116349 -0.015505                -0.568158   \n",
      "\n",
      "   3_month_hist_volatility  6_month_hist_volatility  12_month_hist_volatility  \\\n",
      "0                -0.751625                -0.018858                 -0.026559   \n",
      "1                -0.706732                -0.018053                 -0.021393   \n",
      "2                -0.737649                -0.018783                 -0.021179   \n",
      "3                -0.726444                -0.018648                 -0.021118   \n",
      "4                -0.751457                -0.018680                 -0.021103   \n",
      "\n",
      "   18_month_hist_volatility  \n",
      "0                 -0.027166  \n",
      "1                 -0.027125  \n",
      "2                 -0.027068  \n",
      "3                 -0.027041  \n",
      "4                 -0.027301  \n"
     ]
    }
   ],
   "source": [
    "print(X_scaled_df.head())"
   ]
  },
  {
   "cell_type": "code",
   "execution_count": 42,
   "id": "b14e60be",
   "metadata": {},
   "outputs": [
    {
     "name": "stdout",
     "output_type": "stream",
     "text": [
      "                     Feature       Score       P-Value  Selected\n",
      "9                     Volume  259.791807  1.024373e-57      True\n",
      "12   3_month_hist_volatility  155.631145  1.877590e-35      True\n",
      "11   1_month_hist_volatility  123.572162  1.539431e-28      True\n",
      "10                    return    3.507672  6.111457e-02      True\n",
      "2                      stat3    1.130977  2.875930e-01      True\n",
      "15  18_month_hist_volatility    0.435863  5.091415e-01      True\n",
      "14  12_month_hist_volatility    0.394425  5.299970e-01      True\n",
      "13   6_month_hist_volatility    0.206836  6.492686e-01      True\n",
      "6                       High    0.187170  6.652916e-01      True\n",
      "4                  Adj Close    0.175589  6.752010e-01      True\n",
      "8                       Open    0.170227  6.799193e-01     False\n",
      "5                      Close    0.165171  6.844487e-01     False\n",
      "0                      stat1    0.159888  6.892683e-01     False\n",
      "7                        Low    0.147257  7.011788e-01     False\n",
      "3                      stat4    0.035808  8.499156e-01     False\n",
      "1                      stat2    0.000861  9.765862e-01     False\n"
     ]
    }
   ],
   "source": [
    "# Get the scores and p-values for each feature\n",
    "scores = selector.scores_\n",
    "p_values = selector.pvalues_\n",
    "\n",
    "# Get the mask of the selected features\n",
    "selected_features_mask = selector.get_support()\n",
    "\n",
    "# Create a DataFrame for displaying the results\n",
    "features = pd.DataFrame({\n",
    "    'Feature': X.columns,\n",
    "    'Score': scores,\n",
    "    'P-Value': p_values,\n",
    "    'Selected': selected_features_mask\n",
    "})\n",
    "\n",
    "# Sort the DataFrame by scores in descending order for better visibility\n",
    "features.sort_values(by='Score', ascending=False, inplace=True)\n",
    "\n",
    "# Display the results\n",
    "print(features)"
   ]
  },
  {
   "cell_type": "code",
   "execution_count": 43,
   "id": "2e978658",
   "metadata": {},
   "outputs": [
    {
     "name": "stdout",
     "output_type": "stream",
     "text": [
      "                     Feature       Score       P-Value  Selected\n",
      "9                     Volume  259.791807  1.024373e-57      True\n",
      "12   3_month_hist_volatility  155.631145  1.877590e-35      True\n",
      "11   1_month_hist_volatility  123.572162  1.539431e-28      True\n",
      "10                    return    3.507672  6.111457e-02      True\n",
      "2                      stat3    1.130977  2.875930e-01      True\n",
      "15  18_month_hist_volatility    0.435863  5.091415e-01      True\n",
      "14  12_month_hist_volatility    0.394425  5.299970e-01      True\n",
      "13   6_month_hist_volatility    0.206836  6.492686e-01      True\n",
      "6                       High    0.187170  6.652916e-01      True\n",
      "4                  Adj Close    0.175589  6.752010e-01      True\n",
      "8                       Open    0.170227  6.799193e-01     False\n",
      "5                      Close    0.165171  6.844487e-01     False\n",
      "0                      stat1    0.159888  6.892683e-01     False\n",
      "7                        Low    0.147257  7.011788e-01     False\n",
      "3                      stat4    0.035808  8.499156e-01     False\n"
     ]
    }
   ],
   "source": [
    "print(features.head(15))"
   ]
  },
  {
   "cell_type": "code",
   "execution_count": null,
   "id": "aaa39cc6",
   "metadata": {},
   "outputs": [],
   "source": []
  },
  {
   "cell_type": "code",
   "execution_count": null,
   "id": "f0aaf9bb",
   "metadata": {},
   "outputs": [],
   "source": []
  }
 ],
 "metadata": {
  "kernelspec": {
   "display_name": "Python 3 (ipykernel)",
   "language": "python",
   "name": "python3"
  },
  "language_info": {
   "codemirror_mode": {
    "name": "ipython",
    "version": 3
   },
   "file_extension": ".py",
   "mimetype": "text/x-python",
   "name": "python",
   "nbconvert_exporter": "python",
   "pygments_lexer": "ipython3",
   "version": "3.11.5"
  }
 },
 "nbformat": 4,
 "nbformat_minor": 5
}
